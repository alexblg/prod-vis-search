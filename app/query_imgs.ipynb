{
 "cells": [
  {
   "cell_type": "code",
   "execution_count": 1,
   "metadata": {},
   "outputs": [],
   "source": [
    "import pandas as pd\n",
    "import random\n",
    "import os"
   ]
  },
  {
   "cell_type": "code",
   "execution_count": 2,
   "metadata": {},
   "outputs": [],
   "source": [
    "from imgsearch import image_search_res0, image_search_res1, image_search_res2, IMG_INVENTORY_PATH, IMG_PATH"
   ]
  },
  {
   "cell_type": "markdown",
   "metadata": {},
   "source": [
    "# static"
   ]
  },
  {
   "cell_type": "code",
   "execution_count": 5,
   "metadata": {},
   "outputs": [
    {
     "name": "stdout",
     "output_type": "stream",
     "text": [
      "C:/Users/alexa/Documents/data/wir/project/raffineurs/1015-8599-large_default-votre-portrait-dans-un-studio-du-xixeme-siecle.jpg\n",
      "C:/Users/alexa/Documents/data/wir/project/raffineurs/1033-8975-large_default-mug-egoist-feminisit-anarchist-pessimist-optimist.jpg\n",
      "C:/Users/alexa/Documents/data/wir/project/raffineurs/1058-14147-large_default-t-shirt-smoking-pipe.jpg\n",
      "C:/Users/alexa/Documents/data/wir/project/raffineurs/1087-9246-large_default-cube-en-bois-magnetique.jpg\n",
      "C:/Users/alexa/Documents/data/wir/project/raffineurs/1128-13515-large_default-rendez-vous-pour-creer-votre-creme-sur-mesure.jpg\n",
      "C:/Users/alexa/Documents/data/wir/project/raffineurs/1160-9831-large_default-un-terrarium-a-composer-soi-meme.jpg\n",
      "C:/Users/alexa/Documents/data/wir/project/raffineurs/1191-10092-large_default-maillot-de-bain-iguazu.jpg\n",
      "C:/Users/alexa/Documents/data/wir/project/raffineurs/1215-10321-large_default-affiche-50-choses-a-faire-dans-une-vie.jpg\n",
      "C:/Users/alexa/Documents/data/wir/project/raffineurs/1244-10653-large_default-carnet-de-projets.jpg\n",
      "C:/Users/alexa/Documents/data/wir/project/raffineurs/1261-10675-large_default-affiches-ville-mondrian.jpg\n"
     ]
    }
   ],
   "source": [
    "for img in image_search_res0(''):\n",
    "    print(os.path.join(IMG_PATH, img).replace('\\\\','/'))"
   ]
  },
  {
   "cell_type": "markdown",
   "metadata": {},
   "source": [
    "# random"
   ]
  },
  {
   "cell_type": "code",
   "execution_count": 15,
   "metadata": {},
   "outputs": [
    {
     "data": {
      "text/plain": [
       "['1815-14884-large_default-sweat-sailor.jpg',\n",
       " '1392-13039-large_default-montre-miansai-m12.jpg',\n",
       " '1780-14967-large_default-stylophone-le-synthetiseur-de-poche-vintage.jpg',\n",
       " '1261-10679-large_default-affiches-ville-mondrian.jpg',\n",
       " '561-5565-large_default-blaireau-captain-fawcett.jpg',\n",
       " '1641-13058-large_default-trousse-de-toilette-filson.jpg',\n",
       " '1215-10344-large_default-affiche-50-choses-a-faire-dans-une-vie.jpg',\n",
       " '1529-12464-large_default-realiser-son-propre-terrarium.jpg',\n",
       " '1650-13185-large_default-pince-a-billets-en-laiton-studebaker.jpg',\n",
       " '1455-11841-large_default-montre-lip-dauphine.jpg']"
      ]
     },
     "execution_count": 15,
     "metadata": {},
     "output_type": "execute_result"
    }
   ],
   "source": [
    "image_search_res1('')"
   ]
  },
  {
   "cell_type": "markdown",
   "metadata": {},
   "source": [
    "# BoW on top10 classes"
   ]
  },
  {
   "cell_type": "code",
   "execution_count": 2,
   "metadata": {},
   "outputs": [],
   "source": [
    "from sklearn.feature_extraction.text import CountVectorizer\n",
    "import pandas as pd"
   ]
  },
  {
   "cell_type": "code",
   "execution_count": 62,
   "metadata": {},
   "outputs": [],
   "source": [
    "def image_search_res2(query):\n",
    "    # load image label data\n",
    "    path = 'static/img_top10_labels.csv'\n",
    "    df = pd.read_csv(path)\n",
    "\n",
    "    # generate BoW\n",
    "    vect = CountVectorizer()\n",
    "    bow = vect.fit_transform(df.content.tolist())\n",
    "    voc = vect.vocabulary_\n",
    "    \n",
    "    if query in voc:\n",
    "        img_idx = list(np.where(bow[:,voc[query]].todense() >0)[0])\n",
    "        return df.loc[img_idx, 'image_name'].tolist()\n",
    "    else:\n",
    "        return []"
   ]
  },
  {
   "cell_type": "code",
   "execution_count": 66,
   "metadata": {},
   "outputs": [
    {
     "data": {
      "text/plain": [
       "['1015-8599-large_default-votre-portrait-dans-un-studio-du-xixeme-siecle.jpg',\n",
       " '1191-10092-large_default-maillot-de-bain-iguazu.jpg']"
      ]
     },
     "execution_count": 66,
     "metadata": {},
     "output_type": "execute_result"
    }
   ],
   "source": [
    "image_search_res2('jean')"
   ]
  }
 ],
 "metadata": {
  "kernelspec": {
   "display_name": "Python 3",
   "language": "python",
   "name": "python3"
  },
  "language_info": {
   "codemirror_mode": {
    "name": "ipython",
    "version": 3
   },
   "file_extension": ".py",
   "mimetype": "text/x-python",
   "name": "python",
   "nbconvert_exporter": "python",
   "pygments_lexer": "ipython3",
   "version": "3.7.0"
  }
 },
 "nbformat": 4,
 "nbformat_minor": 2
}
