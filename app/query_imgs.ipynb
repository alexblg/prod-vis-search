{
 "cells": [
  {
   "cell_type": "code",
   "execution_count": 1,
   "metadata": {},
   "outputs": [],
   "source": [
    "import pandas as pd\n",
    "import random\n",
    "import os"
   ]
  },
  {
   "cell_type": "code",
   "execution_count": 2,
   "metadata": {},
   "outputs": [],
   "source": [
    "from imgsearch import image_search_res0, image_search_res1, image_search_res2, IMG_INVENTORY_PATH, IMG_PATH"
   ]
  },
  {
   "cell_type": "markdown",
   "metadata": {},
   "source": [
    "# static"
   ]
  },
  {
   "cell_type": "code",
   "execution_count": 3,
   "metadata": {},
   "outputs": [
    {
     "name": "stdout",
     "output_type": "stream",
     "text": [
      "C:/Users/alexa/Documents/data/wir/project/raffineurs/1015-8599-large_default-votre-portrait-dans-un-studio-du-xixeme-siecle.jpg\n",
      "C:/Users/alexa/Documents/data/wir/project/raffineurs/1033-8975-large_default-mug-egoist-feminisit-anarchist-pessimist-optimist.jpg\n",
      "C:/Users/alexa/Documents/data/wir/project/raffineurs/1058-14147-large_default-t-shirt-smoking-pipe.jpg\n",
      "C:/Users/alexa/Documents/data/wir/project/raffineurs/1087-9246-large_default-cube-en-bois-magnetique.jpg\n",
      "C:/Users/alexa/Documents/data/wir/project/raffineurs/1128-13515-large_default-rendez-vous-pour-creer-votre-creme-sur-mesure.jpg\n",
      "C:/Users/alexa/Documents/data/wir/project/raffineurs/1160-9831-large_default-un-terrarium-a-composer-soi-meme.jpg\n",
      "C:/Users/alexa/Documents/data/wir/project/raffineurs/1191-10092-large_default-maillot-de-bain-iguazu.jpg\n",
      "C:/Users/alexa/Documents/data/wir/project/raffineurs/1215-10321-large_default-affiche-50-choses-a-faire-dans-une-vie.jpg\n",
      "C:/Users/alexa/Documents/data/wir/project/raffineurs/1244-10653-large_default-carnet-de-projets.jpg\n",
      "C:/Users/alexa/Documents/data/wir/project/raffineurs/1261-10675-large_default-affiches-ville-mondrian.jpg\n"
     ]
    }
   ],
   "source": [
    "for img in image_search_res0(''):\n",
    "    print(os.path.join(IMG_PATH, img).replace('\\\\','/'))"
   ]
  },
  {
   "cell_type": "markdown",
   "metadata": {},
   "source": [
    "# random"
   ]
  },
  {
   "cell_type": "code",
   "execution_count": 4,
   "metadata": {},
   "outputs": [
    {
     "data": {
      "text/plain": [
       "['249-14268-large_default-poesie-pratique-contrepoint-recueil.jpg',\n",
       " '1553-12588-large_default-herbier-de-voyage-specimen.jpg',\n",
       " '1343-11391-large_default-ceinture-les-raffineurs.jpg',\n",
       " '891-7680-large_default-creer-son-jardin-suspendu-en-macrame.jpg',\n",
       " '1300-11129-large_default-metro-city-maps.jpg',\n",
       " '698-12448-large_default-the-line-la-silhouette-des-villes.jpg',\n",
       " '1409-11923-large_default-montre-abart.jpg',\n",
       " '811-7717-large_default-fabriquer-son-couteau-d-anjou.jpg',\n",
       " '1845-14742-large_default-foulard-auguste.jpg',\n",
       " '23-294-large_default-pierres-a-whisky-scandinaves.jpg']"
      ]
     },
     "execution_count": 4,
     "metadata": {},
     "output_type": "execute_result"
    }
   ],
   "source": [
    "image_search_res1('')\n",
    "#('')"
   ]
  },
  {
   "cell_type": "markdown",
   "metadata": {},
   "source": [
    "# BoW on top10 classes - single word"
   ]
  },
  {
   "cell_type": "code",
   "execution_count": 5,
   "metadata": {},
   "outputs": [],
   "source": [
    "from sklearn.feature_extraction.text import CountVectorizer\n",
    "import pandas as pd\n",
    "import numpy as np"
   ]
  },
  {
   "cell_type": "code",
   "execution_count": 6,
   "metadata": {},
   "outputs": [
    {
     "data": {
      "text/plain": [
       "['1191-10092-large_default-maillot-de-bain-iguazu.jpg',\n",
       " '1598-13181-large_default-sweat-coco.jpg',\n",
       " '1015-8599-large_default-votre-portrait-dans-un-studio-du-xixeme-siecle.jpg',\n",
       " '1478-12082-large_default-maillot-de-bain-atalaye.jpg',\n",
       " '1606-13229-large_default-gants-en-cuir-et-flanelle-by-dents.jpg',\n",
       " '1716-13498-large_default-bonnet-bask-in-the-sun.jpg',\n",
       " '1828-14599-large_default-sac-a-dos-rucksack-rains.jpg',\n",
       " '1310-10989-large_default-sac-a-buches.jpg',\n",
       " '1388-12064-large_default-short-de-bain-colore-by-atalaye.jpg',\n",
       " '841-7592-large_default-briefcase-filson-en-toile-ciree.jpg',\n",
       " '722-6864-large_default-affiches-carte-des-vins.jpg',\n",
       " '1183-10204-large_default-couteau-douk-douk.jpg',\n",
       " '1173-10054-large_default-tablier-en-toile-vintage.jpg',\n",
       " '1310-10997-large_default-sac-a-buches.jpg',\n",
       " '1596-13406-large_default-sweat-bear-sun.jpg',\n",
       " '722-7354-large_default-affiches-carte-des-vins.jpg',\n",
       " '1478-12086-large_default-maillot-de-bain-atalaye.jpg',\n",
       " '1447-12301-large_default-t-shirt-brode-rose-johnny-romance.jpg',\n",
       " '1579-13111-large_default-bracelet-en-nylon-et-argent-miansai.jpg',\n",
       " '1478-12081-large_default-maillot-de-bain-atalaye.jpg',\n",
       " '1822-14889-large_default-t-shirt-serengueti.jpg',\n",
       " '1760-13946-large_default-porte-passeport-en-feutrine-et-cuir.jpg',\n",
       " '1250-10420-large_default-montre-automatic-about-vintage.jpg',\n",
       " '1595-13405-large_default-t-shirt-moosa-head.jpg',\n",
       " '1057-14767-large_default-t-shirt-to-the-sea.jpg',\n",
       " '1173-10057-large_default-tablier-en-toile-vintage.jpg',\n",
       " '449-3425-large_default-sac-weekender-en-cuir-.jpg',\n",
       " '68-442-large_default-cravate-en-soie-tressee.jpg',\n",
       " '1343-11381-large_default-ceinture-les-raffineurs.jpg',\n",
       " '841-7590-large_default-briefcase-filson-en-toile-ciree.jpg',\n",
       " '1123-9525-large_default-maillot-de-bain-atalaye.jpg',\n",
       " '1755-14206-large_default-echarpe-alphonse.jpg',\n",
       " '1415-11643-large_default-sac-colin-by-ucon-acrobatics.jpg',\n",
       " '1589-13179-large_default-t-shirt-vieux-loup.jpg',\n",
       " '1756-13915-large_default-t-shirt-one-line-love.jpg',\n",
       " '1606-13235-large_default-gants-en-cuir-et-flanelle-by-dents.jpg',\n",
       " '1597-13399-large_default-sweat-vieux-loup.jpg',\n",
       " '1308-10979-large_default-integrez-une-brigade-le-temps-d-un-service.jpg',\n",
       " '1123-9533-large_default-maillot-de-bain-atalaye.jpg',\n",
       " '722-7355-large_default-affiches-carte-des-vins.jpg',\n",
       " '1647-13807-large_default-echarpe-en-laine-et-cachemire.jpg',\n",
       " '1672-13529-large_default-sac-a-dos-rolltop-en-toile.jpg',\n",
       " '1173-11191-large_default-tablier-en-toile-vintage.jpg',\n",
       " '1472-12102-large_default-bretelles-larges-finitions-cuir.jpg',\n",
       " '1420-11872-large_default-coffret-de-cuisine-nomade.jpg',\n",
       " '1173-10063-large_default-tablier-en-toile-vintage.jpg',\n",
       " '1822-14960-large_default-t-shirt-serengueti.jpg',\n",
       " '1388-12066-large_default-short-de-bain-colore-by-atalaye.jpg',\n",
       " '1337-11983-large_default-maillot-de-bain-apnee.jpg',\n",
       " '1123-9520-large_default-maillot-de-bain-atalaye.jpg',\n",
       " '1415-11637-large_default-sac-colin-by-ucon-acrobatics.jpg',\n",
       " '1415-11642-large_default-sac-colin-by-ucon-acrobatics.jpg',\n",
       " '1337-11976-large_default-maillot-de-bain-apnee.jpg',\n",
       " '1647-13800-large_default-echarpe-en-laine-et-cachemire.jpg',\n",
       " '1672-13540-large_default-sac-a-dos-rolltop-en-toile.jpg',\n",
       " '841-7582-large_default-briefcase-filson-en-toile-ciree.jpg',\n",
       " '1753-14213-large_default-trousse-a-outils-mechanic-.jpg',\n",
       " '1650-13189-large_default-pince-a-billets-en-laiton-studebaker.jpg',\n",
       " '1415-11636-large_default-sac-colin-by-ucon-acrobatics.jpg',\n",
       " '841-7583-large_default-briefcase-filson-en-toile-ciree.jpg',\n",
       " '1756-13916-large_default-t-shirt-one-line-love.jpg',\n",
       " '1596-13407-large_default-sweat-bear-sun.jpg',\n",
       " '1057-8965-large_default-t-shirt-to-the-sea.jpg',\n",
       " '1672-13534-large_default-sac-a-dos-rolltop-en-toile.jpg',\n",
       " '1651-13203-large_default-pince-a-cravate-studebaker.jpg',\n",
       " '1191-10091-large_default-maillot-de-bain-iguazu.jpg',\n",
       " '940-8195-large_default-besace-bleu-de-chauffe.jpg',\n",
       " '1058-14153-large_default-t-shirt-smoking-pipe.jpg',\n",
       " '1388-12062-large_default-short-de-bain-colore-by-atalaye.jpg',\n",
       " '1647-13798-large_default-echarpe-en-laine-et-cachemire.jpg',\n",
       " '1607-13246-large_default-gants-en-cuir-double-cachemire-by-dents.jpg',\n",
       " '449-3424-large_default-sac-weekender-en-cuir-.jpg',\n",
       " '387-7825-large_default-bracelet-studebaker.jpg',\n",
       " '1578-12810-large_default-sac-a-dos-cubik-by-pinqponq.jpg',\n",
       " '1680-13295-large_default-porte-cartes-impermeables-by-pioneer.jpg',\n",
       " '939-8135-large_default-briefcase-bleu-de-chauffe.jpg',\n",
       " '1768-13663-large_default-echarpe-lancelot.jpg',\n",
       " '1827-14606-large_default-sac-de-gym-rains.jpg',\n",
       " '1588-13960-large_default-chaussons-en-laine-naturelle.jpg',\n",
       " '1123-9530-large_default-maillot-de-bain-atalaye.jpg',\n",
       " '939-8132-large_default-briefcase-bleu-de-chauffe.jpg',\n",
       " '939-8137-large_default-briefcase-bleu-de-chauffe.jpg',\n",
       " '1811-14721-large_default-t-shirt-sunset-bleu-marine.jpg',\n",
       " '1388-12061-large_default-short-de-bain-colore-by-atalaye.jpg',\n",
       " '695-7105-large_default-briefcase-filson.jpg',\n",
       " '1597-13398-large_default-sweat-vieux-loup.jpg',\n",
       " '1021-8792-large_default-t-shirt-mauvaise-reputation.jpg',\n",
       " '1778-14234-large_default-echarpe-berbere-jaune.jpg',\n",
       " '1415-11645-large_default-sac-colin-by-ucon-acrobatics.jpg',\n",
       " '1783-14379-large_default-affiches-des-pays-du-monde.jpg',\n",
       " '1844-14894-large_default-foulard-timeo.jpg',\n",
       " '940-8193-large_default-besace-bleu-de-chauffe.jpg',\n",
       " '1337-11980-large_default-maillot-de-bain-apnee.jpg',\n",
       " '1201-10243-large_default-t-shirt-oh-la-la.jpg',\n",
       " '940-8194-large_default-besace-bleu-de-chauffe.jpg',\n",
       " '1751-13675-large_default-echarpe-tissee-renald.jpg',\n",
       " '1419-11881-large_default-micro-parapluie.jpg',\n",
       " '1858-14633-large_default-patinez-vos-souliers-dexception.jpg',\n",
       " '1337-11985-large_default-maillot-de-bain-apnee.jpg',\n",
       " '1337-14979-large_default-maillot-de-bain-apnee.jpg',\n",
       " '1751-13673-large_default-echarpe-tissee-renald.jpg',\n",
       " '1634-13144-large_default-duffle-bag-topo-designs.jpg',\n",
       " '695-7103-large_default-briefcase-filson.jpg',\n",
       " '1581-12912-large_default-t-shirt-brode-bleuet.jpg',\n",
       " '1337-11981-large_default-maillot-de-bain-apnee.jpg',\n",
       " '1343-11383-large_default-ceinture-les-raffineurs.jpg',\n",
       " '1715-14720-large_default-sweat-smoking-pipe.jpg',\n",
       " '905-7851-large_default-echarpe-jacquard-en-laine.jpg',\n",
       " '1019-10311-large_default-t-shirt-bear-and-sun.jpg',\n",
       " '623-5232-large_default-bretelles-fines-a-pinces-.jpg',\n",
       " '449-3434-large_default-sac-weekender-en-cuir-.jpg',\n",
       " '1815-14885-large_default-sweat-sailor.jpg',\n",
       " '940-8192-large_default-besace-bleu-de-chauffe.jpg',\n",
       " '1523-12428-large_default-briefcase-100-cuir-bleu-de-chauffe.jpg',\n",
       " '1772-14608-large_default-sac-rolltop-mini-by-ucon-acrobatics.jpg',\n",
       " '1905-14928-large_default-housse-dordinateur-13-pouces-eco-responsable.jpg',\n",
       " '695-7110-large_default-briefcase-filson.jpg',\n",
       " '1415-11635-large_default-sac-colin-by-ucon-acrobatics.jpg',\n",
       " '1337-11984-large_default-maillot-de-bain-apnee.jpg',\n",
       " '1606-13230-large_default-gants-en-cuir-et-flanelle-by-dents.jpg',\n",
       " '1751-13674-large_default-echarpe-tissee-renald.jpg',\n",
       " '1415-11648-large_default-sac-colin-by-ucon-acrobatics.jpg',\n",
       " '939-8116-large_default-briefcase-bleu-de-chauffe.jpg',\n",
       " '1239-10557-large_default-sac-business-bleu-de-chauffe.jpg',\n",
       " '1607-13237-large_default-gants-en-cuir-double-cachemire-by-dents.jpg',\n",
       " '1858-14631-large_default-patinez-vos-souliers-dexception.jpg',\n",
       " '1646-12982-large_default-sac-ucon-acrobatics-frederik.jpg',\n",
       " '939-8136-large_default-briefcase-bleu-de-chauffe.jpg',\n",
       " '695-7112-large_default-briefcase-filson.jpg',\n",
       " '1478-12083-large_default-maillot-de-bain-atalaye.jpg',\n",
       " '1681-13965-large_default-affiche-epaule-jete.jpg',\n",
       " '1813-14698-large_default-sweat-beleza-bleu-marine.jpg',\n",
       " '722-6250-large_default-affiches-carte-des-vins.jpg',\n",
       " '965-8364-large_default-un-rendez-vous-chez-le-barbier.jpg',\n",
       " '1343-11382-large_default-ceinture-les-raffineurs.jpg',\n",
       " '1478-12078-large_default-maillot-de-bain-atalaye.jpg',\n",
       " '1869-14790-large_default-sac-bourse-lutece.jpg',\n",
       " '382-7165-large_default-sac-a-dos-impermeable-homme-rains.jpg',\n",
       " '1756-13913-large_default-t-shirt-one-line-love.jpg',\n",
       " '1858-14632-large_default-patinez-vos-souliers-dexception.jpg',\n",
       " '1580-13373-large_default-t-shirt-brode-edelweiss-johnny-romance.jpg',\n",
       " '1846-14881-large_default-foulard-augustin.jpg',\n",
       " '695-7104-large_default-briefcase-filson.jpg',\n",
       " '1123-9534-large_default-maillot-de-bain-atalaye.jpg',\n",
       " '1415-11634-large_default-sac-colin-by-ucon-acrobatics.jpg',\n",
       " '1183-10205-large_default-couteau-douk-douk.jpg',\n",
       " '1123-9535-large_default-maillot-de-bain-atalaye.jpg',\n",
       " '1772-14451-large_default-sac-rolltop-mini-by-ucon-acrobatics.jpg',\n",
       " '1751-13679-large_default-echarpe-tissee-renald.jpg',\n",
       " '1580-13372-large_default-t-shirt-brode-edelweiss-johnny-romance.jpg',\n",
       " '1680-13294-large_default-porte-cartes-impermeables-by-pioneer.jpg',\n",
       " '1814-14700-large_default-t-shirt-sailor.jpg',\n",
       " '1420-11869-large_default-coffret-de-cuisine-nomade.jpg',\n",
       " '1822-14890-large_default-t-shirt-serengueti.jpg',\n",
       " '1347-11506-large_default-t-shirt-thalasso.jpg',\n",
       " '1715-13485-large_default-sweat-smoking-pipe.jpg',\n",
       " '1734-14058-large_default-marmotte-pour-montres.jpg',\n",
       " '841-7587-large_default-briefcase-filson-en-toile-ciree.jpg',\n",
       " '68-438-large_default-cravate-en-soie-tressee.jpg',\n",
       " '1647-13801-large_default-echarpe-en-laine-et-cachemire.jpg',\n",
       " '1523-12427-large_default-briefcase-100-cuir-bleu-de-chauffe.jpg',\n",
       " '623-5237-large_default-bretelles-fines-a-pinces-.jpg',\n",
       " '1815-14886-large_default-sweat-sailor.jpg',\n",
       " '1753-14210-large_default-trousse-a-outils-mechanic-.jpg',\n",
       " '382-8542-large_default-sac-a-dos-impermeable-homme-rains.jpg',\n",
       " '1606-13233-large_default-gants-en-cuir-et-flanelle-by-dents.jpg',\n",
       " '1058-14152-large_default-t-shirt-smoking-pipe.jpg',\n",
       " '1310-10990-large_default-sac-a-buches.jpg',\n",
       " '1667-13627-large_default-echarpe-en-soie.jpg',\n",
       " '1578-12803-large_default-sac-a-dos-cubik-by-pinqponq.jpg',\n",
       " '1606-13236-large_default-gants-en-cuir-et-flanelle-by-dents.jpg',\n",
       " '1756-14135-large_default-t-shirt-one-line-love.jpg',\n",
       " '1272-10767-large_default-sac-ucon-acrobatics-hajo.jpg',\n",
       " '1144-9633-large_default-montre-timex-fairfield-chrono.jpg',\n",
       " '1478-12085-large_default-maillot-de-bain-atalaye.jpg',\n",
       " '1772-14607-large_default-sac-rolltop-mini-by-ucon-acrobatics.jpg',\n",
       " '1239-10558-large_default-sac-business-bleu-de-chauffe.jpg',\n",
       " '1191-10089-large_default-maillot-de-bain-iguazu.jpg',\n",
       " '1001-8799-large_default-montre-triwa-smoky-falken.jpg',\n",
       " '68-440-large_default-cravate-en-soie-tressee.jpg',\n",
       " '1173-10061-large_default-tablier-en-toile-vintage.jpg',\n",
       " '1858-14623-large_default-patinez-vos-souliers-dexception.jpg',\n",
       " '1173-10060-large_default-tablier-en-toile-vintage.jpg',\n",
       " '957-8433-large_default-porte-monnaie-zippe.jpg',\n",
       " '1664-13431-large_default-t-shirt-high-five.jpg',\n",
       " '1472-12103-large_default-bretelles-larges-finitions-cuir.jpg',\n",
       " '1058-14672-large_default-t-shirt-smoking-pipe.jpg',\n",
       " '1337-11974-large_default-maillot-de-bain-apnee.jpg',\n",
       " '1590-13396-large_default-t-shirt-coco.jpg',\n",
       " '1257-10737-large_default-bracelet-manille-argent-massif.jpg',\n",
       " '1812-14656-large_default-t-shirt-beleza.jpg',\n",
       " '1478-12084-large_default-maillot-de-bain-atalaye.jpg',\n",
       " '1591-13041-large_default-t-shirt-hot-robot.jpg',\n",
       " '1123-9529-large_default-maillot-de-bain-atalaye.jpg',\n",
       " '1797-14438-large_default-casque-de-velo-urbain.jpg',\n",
       " '1758-13932-large_default-laniere-pour-appareil-photo.jpg',\n",
       " '291-13768-large_default-une-chemise-a-vos-mesures.jpg',\n",
       " '1310-10996-large_default-sac-a-buches.jpg',\n",
       " '695-7111-large_default-briefcase-filson.jpg',\n",
       " '1019-13400-large_default-t-shirt-bear-and-sun.jpg',\n",
       " '1647-13796-large_default-echarpe-en-laine-et-cachemire.jpg',\n",
       " '1310-10995-large_default-sac-a-buches.jpg',\n",
       " '382-8541-large_default-sac-a-dos-impermeable-homme-rains.jpg',\n",
       " '905-7776-large_default-echarpe-jacquard-en-laine.jpg',\n",
       " '1478-12080-large_default-maillot-de-bain-atalaye.jpg',\n",
       " '1173-10059-large_default-tablier-en-toile-vintage.jpg',\n",
       " '1751-13678-large_default-echarpe-tissee-renald.jpg',\n",
       " '940-8196-large_default-besace-bleu-de-chauffe.jpg',\n",
       " '1672-13538-large_default-sac-a-dos-rolltop-en-toile.jpg',\n",
       " '1672-13542-large_default-sac-a-dos-rolltop-en-toile.jpg',\n",
       " '1597-13397-large_default-sweat-vieux-loup.jpg',\n",
       " '1640-12936-large_default-briefcase-filson-en-nylon.jpg',\n",
       " '939-8100-large_default-briefcase-bleu-de-chauffe.jpg',\n",
       " '1600-12868-large_default-gourde-thermique-kinto.jpg',\n",
       " '1607-13245-large_default-gants-en-cuir-double-cachemire-by-dents.jpg',\n",
       " '1123-9524-large_default-maillot-de-bain-atalaye.jpg',\n",
       " '1433-11821-large_default-montre-timex-standard.jpg',\n",
       " '1672-13537-large_default-sac-a-dos-rolltop-en-toile.jpg',\n",
       " '1768-13662-large_default-echarpe-lancelot.jpg',\n",
       " '68-2036-large_default-cravate-en-soie-tressee.jpg',\n",
       " '1419-11880-large_default-micro-parapluie.jpg',\n",
       " '1897-14921-large_default-portefeuille-en-cuir-extra-fin.jpg',\n",
       " '1337-11973-large_default-maillot-de-bain-apnee.jpg',\n",
       " '623-5231-large_default-bretelles-fines-a-pinces-.jpg',\n",
       " '291-13770-large_default-une-chemise-a-vos-mesures.jpg',\n",
       " '1214-10360-large_default-lampe-solaire-bocal-en-verre.jpg',\n",
       " '1768-13665-large_default-echarpe-lancelot.jpg',\n",
       " '1057-14766-large_default-t-shirt-to-the-sea.jpg',\n",
       " '1082-9228-large_default-sac-reporter-bleu-de-chauffe.jpg',\n",
       " '905-7852-large_default-echarpe-jacquard-en-laine.jpg',\n",
       " '695-7113-large_default-briefcase-filson.jpg',\n",
       " '1251-11473-large_default-montre-1969-about-vintage.jpg',\n",
       " '1580-13375-large_default-t-shirt-brode-edelweiss-johnny-romance.jpg',\n",
       " '1337-11975-large_default-maillot-de-bain-apnee.jpg']"
      ]
     },
     "execution_count": 6,
     "metadata": {},
     "output_type": "execute_result"
    }
   ],
   "source": [
    "image_search_res2('jean')"
   ]
  },
  {
   "cell_type": "markdown",
   "metadata": {},
   "source": [
    "# BoW on top10 classes - multi word"
   ]
  },
  {
   "cell_type": "code",
   "execution_count": 2,
   "metadata": {},
   "outputs": [],
   "source": [
    "from imgsearch import image_search_res3"
   ]
  },
  {
   "cell_type": "code",
   "execution_count": 6,
   "metadata": {},
   "outputs": [
    {
     "data": {
      "text/plain": [
       "['1858-14631-large_default-patinez-vos-souliers-dexception.jpg',\n",
       " '1588-13959-large_default-chaussons-en-laine-naturelle.jpg',\n",
       " '1858-14628-large_default-patinez-vos-souliers-dexception.jpg',\n",
       " '1858-14634-large_default-patinez-vos-souliers-dexception.jpg',\n",
       " '1858-14635-large_default-patinez-vos-souliers-dexception.jpg',\n",
       " '1783-14379-large_default-affiches-des-pays-du-monde.jpg',\n",
       " '1858-14623-large_default-patinez-vos-souliers-dexception.jpg',\n",
       " '1836-14455-large_default-sweat-daddy-cool.jpg',\n",
       " '1828-14526-large_default-sac-a-dos-rucksack-rains.jpg',\n",
       " '1858-14625-large_default-patinez-vos-souliers-dexception.jpg',\n",
       " '1828-14524-large_default-sac-a-dos-rucksack-rains.jpg',\n",
       " '1858-14632-large_default-patinez-vos-souliers-dexception.jpg']"
      ]
     },
     "execution_count": 6,
     "metadata": {},
     "output_type": "execute_result"
    }
   ],
   "source": [
    "query = 'denim shoe sombrero'\n",
    "image_search_res3(query)"
   ]
  }
 ],
 "metadata": {
  "kernelspec": {
   "display_name": "Python 3",
   "language": "python",
   "name": "python3"
  },
  "language_info": {
   "codemirror_mode": {
    "name": "ipython",
    "version": 3
   },
   "file_extension": ".py",
   "mimetype": "text/x-python",
   "name": "python",
   "nbconvert_exporter": "python",
   "pygments_lexer": "ipython3",
   "version": "3.7.0"
  }
 },
 "nbformat": 4,
 "nbformat_minor": 2
}
