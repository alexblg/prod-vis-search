{
 "cells": [
  {
   "cell_type": "code",
   "execution_count": 23,
   "metadata": {},
   "outputs": [],
   "source": [
    "import pandas as pd\n",
    "import random\n",
    "import os\n",
    "import numpy as np\n",
    "import pickle"
   ]
  },
  {
   "cell_type": "markdown",
   "metadata": {},
   "source": [
    "# load word vecs"
   ]
  },
  {
   "cell_type": "code",
   "execution_count": 2,
   "metadata": {},
   "outputs": [],
   "source": [
    "data_path = r\"C:\\Users\\alexa\\Documents\\data\\wir\\project\"\n",
    "fname = r\"cc.en.300.bin\""
   ]
  },
  {
   "cell_type": "code",
   "execution_count": 3,
   "metadata": {},
   "outputs": [
    {
     "name": "stderr",
     "output_type": "stream",
     "text": [
      "Warning : `load_model` does not return WordVectorModel or SupervisedModel any more, but a `FastText` object which is very similar.\n"
     ]
    },
    {
     "name": "stdout",
     "output_type": "stream",
     "text": [
      "Wall time: 1min 31s\n"
     ]
    }
   ],
   "source": [
    "%%time\n",
    "import fasttext\n",
    "model = fasttext.load_model(\n",
    "    os.path.join(data_path, fname))"
   ]
  },
  {
   "cell_type": "code",
   "execution_count": 14,
   "metadata": {},
   "outputs": [],
   "source": [
    "import io\n",
    "\n",
    "def load_vectors(fname):\n",
    "    fin = io.open(fname, 'r', encoding='utf-8', newline='\\n', errors='ignore')\n",
    "    n, d = map(int, fin.readline().split())\n",
    "    data = {}\n",
    "    for line in fin:\n",
    "        tokens = line.rstrip().split(' ')\n",
    "        data[tokens[0]] = map(float, tokens[1:])\n",
    "    return data"
   ]
  },
  {
   "cell_type": "code",
   "execution_count": 15,
   "metadata": {},
   "outputs": [],
   "source": [
    "data_path = r\"C:\\Users\\alexa\\Documents\\data\\wir\\project\"\n",
    "fname = r\"wiki-news-300d-1M-subword.vec\""
   ]
  },
  {
   "cell_type": "code",
   "execution_count": null,
   "metadata": {},
   "outputs": [],
   "source": [
    "%time\n",
    "wv = load_vectors(\n",
    "    os.path.join(data_path, fname))"
   ]
  },
  {
   "cell_type": "code",
   "execution_count": 4,
   "metadata": {},
   "outputs": [],
   "source": [
    "import csv"
   ]
  },
  {
   "cell_type": "code",
   "execution_count": 5,
   "metadata": {},
   "outputs": [
    {
     "name": "stdout",
     "output_type": "stream",
     "text": [
      "Wall time: 52.9 s\n"
     ]
    }
   ],
   "source": [
    "%%time\n",
    "data_path = r\"C:\\Users\\alexa\\Documents\\data\\nlp\\nlp_hw3\"\n",
    "glove_data_file = 'glove.6B.300d.txt'\n",
    "emb = pd.read_table(os.path.join(data_path, glove_data_file), sep=\" \", index_col=0, header=None, quoting=csv.QUOTE_NONE)"
   ]
  },
  {
   "cell_type": "markdown",
   "metadata": {},
   "source": [
    "# generate img embeddings"
   ]
  },
  {
   "cell_type": "code",
   "execution_count": 477,
   "metadata": {},
   "outputs": [],
   "source": [
    "from imgsearch import cosine_sim\n",
    "\n",
    "def getwv(s):\n",
    "    return model.get_word_vector(s.lower())\n",
    "\n",
    "def getwv_multi_labels(labels):\n",
    "    #sublabels = labels.split(', ')\n",
    "    sublabels = re.split(r'[, ]\\s*', labels)\n",
    "    return sum([getwv(subl) for subl in  sublabels]) / len(sublabels)"
   ]
  },
  {
   "cell_type": "code",
   "execution_count": 478,
   "metadata": {},
   "outputs": [],
   "source": [
    "# img emb = weighted sum of vec\n",
    "get_weighted_sum_vec = lambda tup: sum([getwv(label) * weight for weight, label in tup])\n",
    "get_weighted_sum_vec_multilbl = lambda tup: sum([getwv_multi_labels(label) * weight for weight, label in tup])\n",
    "\n",
    "# img emb = [(vec, weight)]\n",
    "get_tup_vec_weigth = lambda tup: [(getwv(label), weight) for weight, label in tup]\n",
    "get_tup_vec_weight_multilbl = lambda tup: [(getwv_multi_labels(label), weight) for weight, label in tup]\n",
    "\n",
    "# img emb = vec of first label\n",
    "get_vec_first_label = lambda tup: sum([getwv_multi_labels(label) for weight, label in [tup[0]]])"
   ]
  },
  {
   "cell_type": "code",
   "execution_count": 479,
   "metadata": {},
   "outputs": [],
   "source": [
    "path='static/img_top10_labels_w_weights.csv'\n",
    "    \n",
    "# load image label data\n",
    "labelled_df = pd.read_csv(path)"
   ]
  },
  {
   "cell_type": "code",
   "execution_count": 480,
   "metadata": {},
   "outputs": [],
   "source": [
    "from ast import literal_eval\n",
    "labelled_df.content = labelled_df.content.apply(literal_eval)"
   ]
  },
  {
   "cell_type": "code",
   "execution_count": 481,
   "metadata": {},
   "outputs": [
    {
     "name": "stdout",
     "output_type": "stream",
     "text": [
      "Wall time: 1.96 s\n"
     ]
    }
   ],
   "source": [
    "%%time\n",
    "img_emb_dict = dict(zip(\n",
    "    labelled_df.img_id,\n",
    "    #labelled_df.content.apply(get_weight_vec_multilbl) # img emb = weighted sum of vec\n",
    "    #labelled_df.content.apply(get_vec_first_label) # mg emb = vec of first label\n",
    "    labelled_df.content.apply(get_tup_vec_weight_multilbl)# img emb = [(vec, weight)]\n",
    "))"
   ]
  },
  {
   "cell_type": "code",
   "execution_count": 482,
   "metadata": {},
   "outputs": [],
   "source": [
    "import pickle\n",
    "#with open(r\"static/img_emb_dict.pkl\", \"wb\") as f:\n",
    "#    pickle.dump(img_emb_dict, f)"
   ]
  },
  {
   "cell_type": "markdown",
   "metadata": {},
   "source": [
    "# build search routine"
   ]
  },
  {
   "cell_type": "code",
   "execution_count": 483,
   "metadata": {},
   "outputs": [],
   "source": [
    "#with open(r\"static/img_emb_dict.pkl\", \"rb\") as f:\n",
    "#    img_emb_dict = pickle.load(f)"
   ]
  },
  {
   "cell_type": "code",
   "execution_count": 484,
   "metadata": {},
   "outputs": [],
   "source": [
    "def image_search_res5(query, img_emb_dict):\n",
    "    \n",
    "    # get query embedding representation\n",
    "    q = getwv_multi_labels(query)\n",
    "    \n",
    "    if q.sum() != 0:\n",
    "        \n",
    "        # parse query\n",
    "        # ...\n",
    "        \n",
    "        # map image ids to names\n",
    "        img_id_to_name = dict(zip(labelled_df.img_id, labelled_df.image_name))\n",
    "        \n",
    "        # score and rank images\n",
    "        img_idxs = img_emb_dict.keys()\n",
    "        score = [(\n",
    "            img_id_to_name[key]\n",
    "            #,cosine_sim(q, img_emb_dict[key]) # img emb = weighted sum of vec\n",
    "            ,sum([weight * cosine_sim(q, vec) for vec, weight in img_emb_dict[key]]) # img emb = [(vec, weight)]\n",
    "            #,sum([weight * cosine_sim(q, vec) for vec, weight in img_emb_dict[key]][:3]) # img emb = [(vec, 1)]\n",
    "        ) for key in img_idxs]\n",
    "        ranked = sorted(score, key=lambda tup: tup[1], reverse=True)\n",
    "    \n",
    "        # output list of images and proba\n",
    "        return ranked[:12]\n",
    "    else:\n",
    "        return []"
   ]
  },
  {
   "cell_type": "markdown",
   "metadata": {},
   "source": [
    "### inspect single image and assess relevance with query"
   ]
  },
  {
   "cell_type": "code",
   "execution_count": 485,
   "metadata": {},
   "outputs": [],
   "source": [
    "def inspect_img_vs_query(query, img_id):\n",
    "    print(\n",
    "        labelled_df.query(\"img_id == '{}'\".format(img_id)).image_name.values[0])\n",
    "    scores = [(weight, cosine_sim(getwv_multi_labels(query), vec)) for vec, weight in img_emb_dict['{}'.format(img_id)][:3]]\n",
    "    scores = [(weight * sim, weight, sim) for weight, sim in scores]\n",
    "    print(\n",
    "        sum([score[0] for score in scores]))\n",
    "    print(\n",
    "        labelled_df.query(\"img_id == '{}'\".format(img_id)).loc[:,'content'].values[0][:3])\n",
    "    return scores"
   ]
  },
  {
   "cell_type": "code",
   "execution_count": 516,
   "metadata": {},
   "outputs": [
    {
     "data": {
      "text/plain": [
       "0.26644495"
      ]
     },
     "execution_count": 516,
     "metadata": {},
     "output_type": "execute_result"
    }
   ],
   "source": [
    "cosine_sim(getwv_multi_labels(\"plunger, plumber's helper\"), getwv_multi_labels(\"asdfsgd\"))"
   ]
  },
  {
   "cell_type": "code",
   "execution_count": 494,
   "metadata": {},
   "outputs": [
    {
     "name": "stdout",
     "output_type": "stream",
     "text": [
      "842-7190-large_default-plume-de-bureau.jpg\n",
      "0.21230353115817727\n",
      "((0.7355284094810486, \"plunger, plumber's helper\"), (0.1740245223045349, 'table lamp'), (0.01282315794378519, 'spindle'))\n"
     ]
    },
    {
     "data": {
      "text/plain": [
       "[(0.19597783124089396, 0.7355284094810486, 0.26644495),\n",
       " (0.014060712787803187, 0.1740245223045349, 0.08079731),\n",
       " (0.002264987129480117, 0.01282315794378519, 0.17663255)]"
      ]
     },
     "execution_count": 494,
     "metadata": {},
     "output_type": "execute_result"
    }
   ],
   "source": [
    "inspect_img_vs_query('asdfsgd', 7190)"
   ]
  },
  {
   "cell_type": "code",
   "execution_count": 523,
   "metadata": {},
   "outputs": [
    {
     "name": "stdout",
     "output_type": "stream",
     "text": [
      "1621-13437-large_default-organisateur-high-tech-bellroy.jpg\n",
      "0.29762976293333027\n",
      "((0.9043031930923462, 'seat belt, seatbelt'), (0.03341376408934593, 'scabbard'), (0.018360324203968048, 'buckle'))\n"
     ]
    },
    {
     "data": {
      "text/plain": [
       "[(0.2875137230397229, 0.9043031930923462, 0.31793952),\n",
       " (0.0065252400276893385, 0.03341376408934593, 0.19528599),\n",
       " (0.0035907998659180373, 0.018360324203968048, 0.19557388)]"
      ]
     },
     "execution_count": 523,
     "metadata": {},
     "output_type": "execute_result"
    }
   ],
   "source": [
    "inspect_img_vs_query('bicyle', 13437)"
   ]
  },
  {
   "cell_type": "markdown",
   "metadata": {},
   "source": [
    "### query images and save output in static folder"
   ]
  },
  {
   "cell_type": "code",
   "execution_count": 520,
   "metadata": {},
   "outputs": [
    {
     "data": {
      "text/plain": [
       "[('965-8361-large_default-un-rendez-vous-chez-le-barbier.jpg',\n",
       "  0.5948124769326235),\n",
       " ('1797-14438-large_default-casque-de-velo-urbain.jpg', 0.49601409581487826),\n",
       " ('1797-14434-large_default-casque-de-velo-urbain.jpg', 0.41289129330575647),\n",
       " ('1797-14411-large_default-casque-de-velo-urbain.jpg', 0.32578944563839196),\n",
       " ('1607-13245-large_default-gants-en-cuir-double-cachemire-by-dents.jpg',\n",
       "  0.325553129840431),\n",
       " ('626-5109-large_default-adopter-vos-pieds-de-vigne.jpg', 0.3245709244848521),\n",
       " ('1797-14421-large_default-casque-de-velo-urbain.jpg', 0.324302362326393),\n",
       " ('1797-14413-large_default-casque-de-velo-urbain.jpg', 0.32354706392542115),\n",
       " ('1797-14418-large_default-casque-de-velo-urbain.jpg', 0.32161969861347534),\n",
       " ('1797-14412-large_default-casque-de-velo-urbain.jpg', 0.31081113567197055),\n",
       " ('1621-13437-large_default-organisateur-high-tech-bellroy.jpg',\n",
       "  0.30456713148728515),\n",
       " ('965-8359-large_default-un-rendez-vous-chez-le-barbier.jpg',\n",
       "  0.2930161408907653)]"
      ]
     },
     "execution_count": 520,
     "metadata": {},
     "output_type": "execute_result"
    }
   ],
   "source": [
    "query = 'book'\n",
    "image_list = image_search_res5(query, img_emb_dict)\n",
    "with open(r\"static/image_list.pkl\", \"wb\") as f:\n",
    "    pickle.dump(image_list, f)\n",
    "image_list"
   ]
  },
  {
   "cell_type": "markdown",
   "metadata": {},
   "source": [
    "# add weights to image labels"
   ]
  },
  {
   "cell_type": "code",
   "execution_count": 242,
   "metadata": {},
   "outputs": [],
   "source": [
    "from sklearn.feature_extraction.text import CountVectorizer\n",
    "from imgsearch import cosine_sim\n",
    "import numpy as np"
   ]
  },
  {
   "cell_type": "code",
   "execution_count": 9,
   "metadata": {},
   "outputs": [],
   "source": [
    "#pd.read_csv('static/imagenet_classes_to_labels_map.txt')\n",
    "with open('static/imagenet_classes_to_labels_map.txt') as f:\n",
    "    labels = eval(f.read())"
   ]
  },
  {
   "cell_type": "code",
   "execution_count": 10,
   "metadata": {},
   "outputs": [],
   "source": [
    "def get_topn_labels(row, n=10):\n",
    "    outdf = row.astype(float).nlargest(n).reset_index()\n",
    "    outdf.columns = ['label_id','percentage']\n",
    "    outdf.label_id = outdf.label_id.astype(int)\n",
    "    outdf['label_name'] = outdf.label_id.map(labels)\n",
    "    return outdf"
   ]
  },
  {
   "cell_type": "code",
   "execution_count": 11,
   "metadata": {},
   "outputs": [
    {
     "name": "stdout",
     "output_type": "stream",
     "text": [
      "Wall time: 1min 11s\n"
     ]
    }
   ],
   "source": [
    "%%time\n",
    "\n",
    "n_img = 10000\n",
    "\n",
    "# get weight data\n",
    "data_path = r\"C:\\Users\\alexa\\Documents\\data\\wir\\project\\img_proba_vecs_vgg19.csv\"\n",
    "dfw = pd.read_csv(data_path, low_memory=False)\n",
    "\n",
    "# generate df with descr of top10 classes\n",
    "labelled_df = dfw.loc[:, dfw.columns[:3]].copy()\n",
    "labelled_df['content'] = ''\n",
    "\n",
    "for i, image_name in enumerate(dfw.image_name.loc[:n_img]):\n",
    "    topnlabels = get_topn_labels(dfw.loc[i, dfw.columns[3:]])\n",
    "    labelled_df.loc[i, 'content'] = tuple(zip(topnlabels.percentage, topnlabels.label_name)) # keep weight info\n",
    "\n",
    "# select top n images\n",
    "labelled_df = labelled_df.loc[:n_img].copy()"
   ]
  },
  {
   "cell_type": "code",
   "execution_count": 12,
   "metadata": {},
   "outputs": [],
   "source": [
    "    path='static/img_top10_labels_w_weights.csv'\n",
    "    \n",
    "    # load image label data\n",
    "    labelled_df.to_csv(path, index=False)"
   ]
  }
 ],
 "metadata": {
  "kernelspec": {
   "display_name": "Python 3",
   "language": "python",
   "name": "python3"
  },
  "language_info": {
   "codemirror_mode": {
    "name": "ipython",
    "version": 3
   },
   "file_extension": ".py",
   "mimetype": "text/x-python",
   "name": "python",
   "nbconvert_exporter": "python",
   "pygments_lexer": "ipython3",
   "version": "3.7.0"
  }
 },
 "nbformat": 4,
 "nbformat_minor": 2
}
