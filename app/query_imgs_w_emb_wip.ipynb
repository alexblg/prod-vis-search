{
 "cells": [
  {
   "cell_type": "code",
   "execution_count": 23,
   "metadata": {},
   "outputs": [],
   "source": [
    "import pandas as pd\n",
    "import random\n",
    "import os\n",
    "import numpy as np\n",
    "import pickle"
   ]
  },
  {
   "cell_type": "markdown",
   "metadata": {},
   "source": [
    "# load word vecs"
   ]
  },
  {
   "cell_type": "code",
   "execution_count": 2,
   "metadata": {},
   "outputs": [],
   "source": [
    "data_path = r\"C:\\Users\\alexa\\Documents\\data\\wir\\project\"\n",
    "fname = r\"cc.en.300.bin\""
   ]
  },
  {
   "cell_type": "code",
   "execution_count": 3,
   "metadata": {},
   "outputs": [
    {
     "name": "stderr",
     "output_type": "stream",
     "text": [
      "Warning : `load_model` does not return WordVectorModel or SupervisedModel any more, but a `FastText` object which is very similar.\n"
     ]
    },
    {
     "name": "stdout",
     "output_type": "stream",
     "text": [
      "Wall time: 1min 31s\n"
     ]
    }
   ],
   "source": [
    "%%time\n",
    "import fasttext\n",
    "model = fasttext.load_model(\n",
    "    os.path.join(data_path, fname))"
   ]
  },
  {
   "cell_type": "code",
   "execution_count": 14,
   "metadata": {},
   "outputs": [],
   "source": [
    "import io\n",
    "\n",
    "def load_vectors(fname):\n",
    "    fin = io.open(fname, 'r', encoding='utf-8', newline='\\n', errors='ignore')\n",
    "    n, d = map(int, fin.readline().split())\n",
    "    data = {}\n",
    "    for line in fin:\n",
    "        tokens = line.rstrip().split(' ')\n",
    "        data[tokens[0]] = map(float, tokens[1:])\n",
    "    return data"
   ]
  },
  {
   "cell_type": "code",
   "execution_count": 15,
   "metadata": {},
   "outputs": [],
   "source": [
    "data_path = r\"C:\\Users\\alexa\\Documents\\data\\wir\\project\"\n",
    "fname = r\"wiki-news-300d-1M-subword.vec\""
   ]
  },
  {
   "cell_type": "code",
   "execution_count": null,
   "metadata": {},
   "outputs": [],
   "source": [
    "%time\n",
    "wv = load_vectors(\n",
    "    os.path.join(data_path, fname))"
   ]
  },
  {
   "cell_type": "code",
   "execution_count": 4,
   "metadata": {},
   "outputs": [],
   "source": [
    "import csv"
   ]
  },
  {
   "cell_type": "code",
   "execution_count": 5,
   "metadata": {},
   "outputs": [
    {
     "name": "stdout",
     "output_type": "stream",
     "text": [
      "Wall time: 52.9 s\n"
     ]
    }
   ],
   "source": [
    "%%time\n",
    "data_path = r\"C:\\Users\\alexa\\Documents\\data\\nlp\\nlp_hw3\"\n",
    "glove_data_file = 'glove.6B.300d.txt'\n",
    "emb = pd.read_table(os.path.join(data_path, glove_data_file), sep=\" \", index_col=0, header=None, quoting=csv.QUOTE_NONE)"
   ]
  },
  {
   "cell_type": "markdown",
   "metadata": {},
   "source": [
    "# generate img embeddings"
   ]
  },
  {
   "cell_type": "code",
   "execution_count": 4,
   "metadata": {},
   "outputs": [],
   "source": [
    "from imgsearch import cosine_sim\n",
    "\n",
    "def getwv(s):\n",
    "    return model.get_word_vector(s)\n",
    "\n",
    "def getwv_multi_labels(labels):\n",
    "    sublabels = labels.split(', ')\n",
    "    return sum([getwv(subl) for subl in  sublabels]) / len(sublabels)"
   ]
  },
  {
   "cell_type": "code",
   "execution_count": 5,
   "metadata": {},
   "outputs": [],
   "source": [
    "get_weighted_sum_vec = lambda tup: sum([getwv(label) * weight for weight, label in tup])\n",
    "get_weighted_sum_vec_multilbl = lambda tup: sum([getwv_multi_labels(label) * weight for weight, label in tup])\n",
    "\n",
    "get_vec_first_label = lambda tup: sum([getwv_multi_labels(label) for weight, label in [tup[0]]])"
   ]
  },
  {
   "cell_type": "code",
   "execution_count": 7,
   "metadata": {},
   "outputs": [],
   "source": [
    "path='static/img_top10_labels_w_weights.csv'\n",
    "    \n",
    "# load image label data\n",
    "labelled_df = pd.read_csv(path)"
   ]
  },
  {
   "cell_type": "code",
   "execution_count": 14,
   "metadata": {},
   "outputs": [],
   "source": [
    "from ast import literal_eval\n",
    "labelled_df.content = labelled_df.content.apply(literal_eval)"
   ]
  },
  {
   "cell_type": "code",
   "execution_count": 174,
   "metadata": {},
   "outputs": [
    {
     "name": "stdout",
     "output_type": "stream",
     "text": [
      "Wall time: 935 ms\n"
     ]
    }
   ],
   "source": [
    "%%time\n",
    "img_emb_dict = dict(zip(\n",
    "    labelled_df.img_id,\n",
    "    labelled_df.content.apply(get_weight_vec_multilbl)\n",
    "    #labelled_df.content.apply(get_vec_first_label)\n",
    "))"
   ]
  },
  {
   "cell_type": "code",
   "execution_count": 175,
   "metadata": {},
   "outputs": [],
   "source": [
    "import pickle\n",
    "#with open(r\"static/img_emb_dict.pkl\", \"wb\") as f:\n",
    "#    pickle.dump(img_emb_dict, f)"
   ]
  },
  {
   "cell_type": "markdown",
   "metadata": {},
   "source": [
    "# build search routine"
   ]
  },
  {
   "cell_type": "code",
   "execution_count": 176,
   "metadata": {},
   "outputs": [],
   "source": [
    "#with open(r\"static/img_emb_dict.pkl\", \"rb\") as f:\n",
    "#    img_emb_dict = pickle.load(f)"
   ]
  },
  {
   "cell_type": "code",
   "execution_count": 177,
   "metadata": {},
   "outputs": [],
   "source": [
    "def image_search_res5(query, img_emb_dict):\n",
    "    \n",
    "    # get query embedding representation\n",
    "    q = getwv_multi_labels(query)\n",
    "    \n",
    "    if q.sum() != 0:\n",
    "        \n",
    "        # parse query\n",
    "        # ...\n",
    "        \n",
    "        # map image ids to names\n",
    "        img_id_to_name = dict(zip(labelled_df.img_id, labelled_df.image_name))\n",
    "        \n",
    "        # score and rank images\n",
    "        img_idxs = img_emb_dict.keys()\n",
    "        score = [(\n",
    "            img_id_to_name[key]\n",
    "            ,cosine_sim(q, img_emb_dict[key])\n",
    "        ) for key in img_idxs]\n",
    "        ranked = sorted(score, key=lambda tup: tup[1], reverse=True)\n",
    "    \n",
    "        # output list of images and proba\n",
    "        return ranked[:12]\n",
    "    else:\n",
    "        return []"
   ]
  },
  {
   "cell_type": "code",
   "execution_count": 181,
   "metadata": {},
   "outputs": [
    {
     "name": "stdout",
     "output_type": "stream",
     "text": [
      "1828-14522-large_default-sac-a-dos-rucksack-rains.jpg\n",
      "0.15093912\n",
      "((0.18596436083316806, 'clog, geta, patten, sabot'), (0.17596831917762756, 'mailbag, postbag'), (0.151167631149292, 'sandal'))\n"
     ]
    }
   ],
   "source": [
    "query = 'hiking shoes'\n",
    "id_ = 14522\n",
    "print(\n",
    "    labelled_df.query(\"img_id == '{}'\".format(id_)).image_name.values[0])\n",
    "print(\n",
    "    cosine_sim(img_emb_dict['{}'.format(id_)], getwv_multi_labels(query)))\n",
    "print(\n",
    "    labelled_df.query(\"img_id == '{}'\".format(id_)).loc[:,'content'].values[0][:3])"
   ]
  },
  {
   "cell_type": "code",
   "execution_count": 179,
   "metadata": {},
   "outputs": [
    {
     "data": {
      "text/plain": [
       "[('1588-13961-large_default-chaussons-en-laine-naturelle.jpg', 0.60665333),\n",
       " ('912-8278-large_default-flasque-en-cuivre.jpg', 0.58782387),\n",
       " ('1057-13488-large_default-t-shirt-to-the-sea.jpg', 0.5869558),\n",
       " ('1588-13261-large_default-chaussons-en-laine-naturelle.jpg', 0.58575124),\n",
       " ('1828-14527-large_default-sac-a-dos-rucksack-rains.jpg', 0.57823175),\n",
       " ('1828-14522-large_default-sac-a-dos-rucksack-rains.jpg', 0.57441026),\n",
       " ('1191-10092-large_default-maillot-de-bain-iguazu.jpg', 0.54713625),\n",
       " ('1588-13960-large_default-chaussons-en-laine-naturelle.jpg', 0.54574186),\n",
       " ('1828-14524-large_default-sac-a-dos-rucksack-rains.jpg', 0.5187537),\n",
       " ('1257-10737-large_default-bracelet-manille-argent-massif.jpg', 0.5122339),\n",
       " ('1755-14207-large_default-echarpe-alphonse.jpg', 0.51223165),\n",
       " ('1783-14379-large_default-affiches-des-pays-du-monde.jpg', 0.51004076)]"
      ]
     },
     "execution_count": 179,
     "metadata": {},
     "output_type": "execute_result"
    }
   ],
   "source": [
    "query = 'shoes'\n",
    "image_list = image_search_res5(query, img_emb_dict)\n",
    "with open(r\"static/image_list.pkl\", \"wb\") as f:\n",
    "    pickle.dump(image_list, f)\n",
    "image_list"
   ]
  },
  {
   "cell_type": "markdown",
   "metadata": {},
   "source": [
    "# add weights to image labels"
   ]
  },
  {
   "cell_type": "code",
   "execution_count": 8,
   "metadata": {},
   "outputs": [],
   "source": [
    "from sklearn.feature_extraction.text import CountVectorizer\n",
    "from imgsearch import cosine_sim\n",
    "import numpy as np"
   ]
  },
  {
   "cell_type": "code",
   "execution_count": 9,
   "metadata": {},
   "outputs": [],
   "source": [
    "#pd.read_csv('static/imagenet_classes_to_labels_map.txt')\n",
    "with open('static/imagenet_classes_to_labels_map.txt') as f:\n",
    "    labels = eval(f.read())"
   ]
  },
  {
   "cell_type": "code",
   "execution_count": 10,
   "metadata": {},
   "outputs": [],
   "source": [
    "def get_topn_labels(row, n=10):\n",
    "    outdf = row.astype(float).nlargest(n).reset_index()\n",
    "    outdf.columns = ['label_id','percentage']\n",
    "    outdf.label_id = outdf.label_id.astype(int)\n",
    "    outdf['label_name'] = outdf.label_id.map(labels)\n",
    "    return outdf"
   ]
  },
  {
   "cell_type": "code",
   "execution_count": 11,
   "metadata": {},
   "outputs": [
    {
     "name": "stdout",
     "output_type": "stream",
     "text": [
      "Wall time: 1min 11s\n"
     ]
    }
   ],
   "source": [
    "%%time\n",
    "\n",
    "n_img = 10000\n",
    "\n",
    "# get weight data\n",
    "data_path = r\"C:\\Users\\alexa\\Documents\\data\\wir\\project\\img_proba_vecs_vgg19.csv\"\n",
    "dfw = pd.read_csv(data_path, low_memory=False)\n",
    "\n",
    "# generate df with descr of top10 classes\n",
    "labelled_df = dfw.loc[:, dfw.columns[:3]].copy()\n",
    "labelled_df['content'] = ''\n",
    "\n",
    "for i, image_name in enumerate(dfw.image_name.loc[:n_img]):\n",
    "    topnlabels = get_topn_labels(dfw.loc[i, dfw.columns[3:]])\n",
    "    labelled_df.loc[i, 'content'] = tuple(zip(topnlabels.percentage, topnlabels.label_name)) # keep weight info\n",
    "\n",
    "# select top n images\n",
    "labelled_df = labelled_df.loc[:n_img].copy()"
   ]
  },
  {
   "cell_type": "code",
   "execution_count": 12,
   "metadata": {},
   "outputs": [],
   "source": [
    "    path='static/img_top10_labels_w_weights.csv'\n",
    "    \n",
    "    # load image label data\n",
    "    labelled_df.to_csv(path, index=False)"
   ]
  }
 ],
 "metadata": {
  "kernelspec": {
   "display_name": "Python 3",
   "language": "python",
   "name": "python3"
  },
  "language_info": {
   "codemirror_mode": {
    "name": "ipython",
    "version": 3
   },
   "file_extension": ".py",
   "mimetype": "text/x-python",
   "name": "python",
   "nbconvert_exporter": "python",
   "pygments_lexer": "ipython3",
   "version": "3.7.0"
  }
 },
 "nbformat": 4,
 "nbformat_minor": 2
}
