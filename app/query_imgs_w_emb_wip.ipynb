{
 "cells": [
  {
   "cell_type": "code",
   "execution_count": 7,
   "metadata": {},
   "outputs": [],
   "source": [
    "import pandas as pd\n",
    "import random\n",
    "import os"
   ]
  },
  {
   "cell_type": "code",
   "execution_count": 271,
   "metadata": {},
   "outputs": [],
   "source": [
    "data_path = r\"C:\\Users\\alexa\\Documents\\data\\wir\\project\"\n",
    "fname = r\"cc.en.300.bin\""
   ]
  },
  {
   "cell_type": "code",
   "execution_count": 272,
   "metadata": {},
   "outputs": [
    {
     "name": "stdout",
     "output_type": "stream",
     "text": [
      "Wall time: 59 s\n"
     ]
    },
    {
     "name": "stderr",
     "output_type": "stream",
     "text": [
      "Warning : `load_model` does not return WordVectorModel or SupervisedModel any more, but a `FastText` object which is very similar.\n"
     ]
    }
   ],
   "source": [
    "%%time\n",
    "import fasttext\n",
    "model = fasttext.load_model(\n",
    "    os.path.join(data_path, fname))"
   ]
  },
  {
   "cell_type": "code",
   "execution_count": null,
   "metadata": {},
   "outputs": [],
   "source": [
    "from imgsearch import cosine_sim\n",
    "\n",
    "def getwv(s):\n",
    "    return model.get_word_vector(s)\n",
    "\n",
    "def getwv_multi_labels(labels):\n",
    "    sublabels = labels.split(', ')\n",
    "    return sum([getwv(subl) for subl in  sublabels]) / len(sublabels)\n",
    "\n",
    "get_weight_vec = lambda tup: sum([getwv(label) * weight for weight, label in tup])\n",
    "get_weight_vec_multuilbl = lambda tup: sum([getwv_multi_labels(label) * weight for weight, label in tup])"
   ]
  },
  {
   "cell_type": "code",
   "execution_count": 188,
   "metadata": {},
   "outputs": [
    {
     "name": "stdout",
     "output_type": "stream",
     "text": [
      "Wall time: 1.29 s\n"
     ]
    }
   ],
   "source": [
    "%%time\n",
    "img_emb_dict = dict(zip(\n",
    "    labelled_df.img_id,\n",
    "    labelled_df.content.apply(get_weight_vec_multuilbl)\n",
    "))"
   ]
  },
  {
   "cell_type": "code",
   "execution_count": 241,
   "metadata": {},
   "outputs": [],
   "source": [
    "import pickle\n",
    "with open(r\"static/img_emb_dict.pickle\", \"wb\") as f:\n",
    "    pickle.dump(img_emb_dict, f)"
   ]
  },
  {
   "cell_type": "code",
   "execution_count": 246,
   "metadata": {},
   "outputs": [],
   "source": [
    "def image_search_res5(query):\n",
    "    \n",
    "    # get query embedding representation\n",
    "    q = getwv_multi_labels(query)\n",
    "    \n",
    "    if q.sum() != 0:\n",
    "        \n",
    "        # parse query\n",
    "        # ...\n",
    "    \n",
    "        # load img emb\n",
    "        with open(r\"static/img_emb_dict.pickle\", \"rb\") as f:\n",
    "            img_emb_dict = pickle.load(f)\n",
    "    \n",
    "        # score and rank images\n",
    "        score = [cosine_sim(q, img_emb_dict[key]) for key in img_emb_dict]\n",
    "        score = np.array(score)\n",
    "        ranked_idx = np.argsort(-score)\n",
    "        ranked_score = score[ranked_idx]\n",
    "\n",
    "        # gather images w/ top ranks\n",
    "        images = labelled_df.loc[ranked_idx, 'image_name'].tolist()[:12]\n",
    "        \n",
    "        # output list of images and proba\n",
    "        return tuple(zip(images, ranked_score))\n",
    "    else:\n",
    "        return []"
   ]
  },
  {
   "cell_type": "code",
   "execution_count": 269,
   "metadata": {},
   "outputs": [
    {
     "data": {
      "text/plain": [
       "(('1797-14433-large_default-casque-de-velo-urbain.jpg', 0.7324617),\n",
       " ('1681-13966-large_default-affiche-epaule-jete.jpg', 0.7185941),\n",
       " ('1736-14042-large_default-roue-du-caviste.jpg', 0.7134589),\n",
       " ('413-3333-large_default-whisky-mackmyra-.jpg', 0.71277833),\n",
       " ('1179-10038-large_default-livre-nouveaux-artisans.jpg', 0.71108365),\n",
       " ('1786-14593-large_default-livre-corpus-tattoo.jpg', 0.71098363),\n",
       " ('799-6949-large_default-livre-le-vin-c-est-pas-sorcier.jpg', 0.7073882),\n",
       " ('1204-10271-large_default-bougie-pf-candle-co.jpg', 0.70606476),\n",
       " ('1017-8642-large_default-atlas-des-constellations.jpg', 0.70595944),\n",
       " ('640-5519-large_default-atlas-des-contrees-revees.jpg', 0.7048262),\n",
       " ('640-5521-large_default-atlas-des-contrees-revees.jpg', 0.7041713),\n",
       " ('1179-10037-large_default-livre-nouveaux-artisans.jpg', 0.70380104))"
      ]
     },
     "execution_count": 269,
     "metadata": {},
     "output_type": "execute_result"
    }
   ],
   "source": [
    "query = 'hiking shoes'\n",
    "image_search_res5(query)"
   ]
  },
  {
   "cell_type": "markdown",
   "metadata": {},
   "source": [
    "# run this first"
   ]
  },
  {
   "cell_type": "code",
   "execution_count": 59,
   "metadata": {},
   "outputs": [],
   "source": [
    "from sklearn.feature_extraction.text import CountVectorizer\n",
    "from imgsearch import cosine_sim\n",
    "import numpy as np"
   ]
  },
  {
   "cell_type": "code",
   "execution_count": null,
   "metadata": {},
   "outputs": [],
   "source": [
    "data_path"
   ]
  },
  {
   "cell_type": "code",
   "execution_count": 60,
   "metadata": {},
   "outputs": [],
   "source": [
    "    path='static/img_top10_labels.csv'\n",
    "    \n",
    "    # load image label data\n",
    "    df = pd.read_csv(path)\n",
    "\n",
    "    # generate BoW\n",
    "    vect = CountVectorizer()\n",
    "    bow = vect.fit_transform(df.content.tolist())\n",
    "    voc = vect.vocabulary_"
   ]
  },
  {
   "cell_type": "code",
   "execution_count": 61,
   "metadata": {},
   "outputs": [],
   "source": [
    "#pd.read_csv('static/imagenet_classes_to_labels_map.txt')\n",
    "with open('static/imagenet_classes_to_labels_map.txt') as f:\n",
    "    labels = eval(f.read())"
   ]
  },
  {
   "cell_type": "code",
   "execution_count": 62,
   "metadata": {},
   "outputs": [],
   "source": [
    "def get_topn_labels(row, n=10):\n",
    "    outdf = row.astype(float).nlargest(n).reset_index()\n",
    "    outdf.columns = ['label_id','percentage']\n",
    "    outdf.label_id = outdf.label_id.astype(int)\n",
    "    outdf['label_name'] = outdf.label_id.map(labels)\n",
    "    return outdf"
   ]
  },
  {
   "cell_type": "code",
   "execution_count": 63,
   "metadata": {},
   "outputs": [],
   "source": [
    "def process_img_content(content):\n",
    "    new_content =  [(w.strip(','), val) for val, sent in content for w in sent.split(' ') ]\n",
    "    content_dict = {}\n",
    "    for w in new_content:\n",
    "        if w[0] in content_dict:\n",
    "            content_dict[w[0]] += w[1]\n",
    "        else:\n",
    "            content_dict[w[0]] = w[1]\n",
    "    return content_dict"
   ]
  },
  {
   "cell_type": "code",
   "execution_count": 240,
   "metadata": {},
   "outputs": [
    {
     "name": "stdout",
     "output_type": "stream",
     "text": [
      "Wall time: 31.4 s\n"
     ]
    }
   ],
   "source": [
    "%%time\n",
    "\n",
    "n_img = 10000\n",
    "\n",
    "# get weight data\n",
    "data_path = r\"C:\\Users\\alexa\\Documents\\data\\wir\\project\\img_proba_vecs_vgg19.csv\"\n",
    "dfw = pd.read_csv(data_path, low_memory=False)\n",
    "\n",
    "# generate df with descr of top10 classes\n",
    "labelled_df = dfw.loc[:, dfw.columns[:3]].copy()\n",
    "labelled_df['content'] = ''\n",
    "\n",
    "for i, image_name in enumerate(dfw.image_name.loc[:n_img]):\n",
    "    topnlabels = get_topn_labels(dfw.loc[i, dfw.columns[3:]])\n",
    "    labelled_df.loc[i, 'content'] = tuple(zip(topnlabels.percentage, topnlabels.label_name)) # keep weight info\n",
    "\n",
    "# select top n images\n",
    "labelled_df = labelled_df.loc[:n_img].copy()"
   ]
  }
 ],
 "metadata": {
  "kernelspec": {
   "display_name": "Python 3",
   "language": "python",
   "name": "python3"
  },
  "language_info": {
   "codemirror_mode": {
    "name": "ipython",
    "version": 3
   },
   "file_extension": ".py",
   "mimetype": "text/x-python",
   "name": "python",
   "nbconvert_exporter": "python",
   "pygments_lexer": "ipython3",
   "version": "3.7.0"
  }
 },
 "nbformat": 4,
 "nbformat_minor": 2
}
