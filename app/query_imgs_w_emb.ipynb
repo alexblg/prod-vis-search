{
 "cells": [
  {
   "cell_type": "code",
   "execution_count": 3,
   "metadata": {},
   "outputs": [],
   "source": [
    "import pandas as pd\n",
    "import random\n",
    "import os\n",
    "import numpy as np\n",
    "import pickle"
   ]
  },
  {
   "cell_type": "markdown",
   "metadata": {},
   "source": [
    "# load word vecs"
   ]
  },
  {
   "cell_type": "markdown",
   "metadata": {},
   "source": [
    "### fastText"
   ]
  },
  {
   "cell_type": "code",
   "execution_count": 4,
   "metadata": {},
   "outputs": [],
   "source": [
    "data_path = r\"C:\\Users\\alexa\\Documents\\data\\wir\\project\"\n",
    "fname = r\"cc.en.150.bin\""
   ]
  },
  {
   "cell_type": "code",
   "execution_count": 5,
   "metadata": {},
   "outputs": [
    {
     "name": "stdout",
     "output_type": "stream",
     "text": [
      "Wall time: 18.6 s\n"
     ]
    }
   ],
   "source": [
    "%%time\n",
    "import fasttext\n",
    "emb = fasttext.load_model(\n",
    "    os.path.join(data_path, fname))"
   ]
  },
  {
   "cell_type": "code",
   "execution_count": 6,
   "metadata": {},
   "outputs": [],
   "source": [
    "from imgsearch import cosine_sim\n",
    "import re\n",
    "\n",
    "def getwv(s, model):\n",
    "    return model.get_word_vector(s.lower())\n",
    "\n",
    "def getwv_multi_labels(labels, model):\n",
    "    #sublabels = labels.split(', ')\n",
    "    sublabels = re.split(r'[, ]\\s*', labels)\n",
    "    return sum([getwv(subl, model) for subl in  sublabels]) / len(sublabels)"
   ]
  },
  {
   "cell_type": "markdown",
   "metadata": {},
   "source": [
    "### GloVe"
   ]
  },
  {
   "cell_type": "code",
   "execution_count": 90,
   "metadata": {},
   "outputs": [
    {
     "name": "stdout",
     "output_type": "stream",
     "text": [
      "Wall time: 5.04 s\n"
     ]
    }
   ],
   "source": [
    "%%time\n",
    "import csv\n",
    "data_path = r\"C:\\Users\\alexa\\Documents\\data\\glove.6B\"\n",
    "glove_data_file = 'glove.6B.50d.txt'\n",
    "emb = pd.read_table(os.path.join(data_path, glove_data_file), sep=\" \", index_col=0, header=None, quoting=csv.QUOTE_NONE)"
   ]
  },
  {
   "cell_type": "code",
   "execution_count": 91,
   "metadata": {},
   "outputs": [],
   "source": [
    "from imgsearch import cosine_sim\n",
    "import re\n",
    "\n",
    "exception_series = pd.Series([1e-5 for i in range(50)], index=list(range(1,51)))\n",
    "\n",
    "def getwv(s, emb):\n",
    "    try:\n",
    "        return emb.loc[s.lower()]\n",
    "    except:\n",
    "        return exception_series\n",
    "\n",
    "def getwv_multi_labels(labels, emb):\n",
    "    #sublabels = labels.split(', ')\n",
    "    sublabels = re.split(r'[, ]\\s*', labels)\n",
    "    return sum([getwv(subl, emb) for subl in  sublabels]) / len(sublabels)"
   ]
  },
  {
   "cell_type": "markdown",
   "metadata": {},
   "source": [
    "# build search routine"
   ]
  },
  {
   "cell_type": "markdown",
   "metadata": {},
   "source": [
    "### load img embeddings"
   ]
  },
  {
   "cell_type": "code",
   "execution_count": 12,
   "metadata": {},
   "outputs": [],
   "source": [
    "with open(r\"static/img_emb_dict_150d_fasttext.pkl\", \"rb\") as f:\n",
    "    img_emb_dict = pickle.load(f)"
   ]
  },
  {
   "cell_type": "code",
   "execution_count": 13,
   "metadata": {},
   "outputs": [],
   "source": [
    "def image_search_res5(query, img_emb_dict, emb):\n",
    "    \n",
    "    # get query embedding representation\n",
    "    q = getwv_multi_labels(query, emb)\n",
    "    \n",
    "    if q.sum() != 0:\n",
    "        \n",
    "        # parse query\n",
    "        # ...\n",
    "        \n",
    "        # map image ids to names\n",
    "        img_id_to_name = dict(zip(labelled_df.img_id, labelled_df.image_name))\n",
    "        \n",
    "        # score and rank images\n",
    "        img_idxs = img_emb_dict.keys()\n",
    "        score = [(\n",
    "            img_id_to_name[key]\n",
    "            #,cosine_sim(q, img_emb_dict[key]) # img emb = weighted sum of vec\n",
    "            ,sum([weight * cosine_sim(q, vec) for vec, weight in img_emb_dict[key]]) # img emb = [(vec, weight)]\n",
    "            #,sum([weight * cosine_sim(q, vec) for vec, weight in img_emb_dict[key]][:3]) # img emb = [(vec, 1)]\n",
    "        ) for key in img_idxs]\n",
    "        ranked = sorted(score, key=lambda tup: tup[1], reverse=True)\n",
    "    \n",
    "        # output list of images and proba\n",
    "        return ranked[:12]\n",
    "    else:\n",
    "        return []"
   ]
  },
  {
   "cell_type": "code",
   "execution_count": 14,
   "metadata": {},
   "outputs": [
    {
     "name": "stdout",
     "output_type": "stream",
     "text": [
      "Wall time: 1.94 s\n"
     ]
    },
    {
     "data": {
      "text/plain": [
       "[('1359-11714-large_default-t-shirt-wonderlandes.jpg', 0.6324445790672139),\n",
       " ('1020-10242-large_default-t-shirt-la-belle-vie.jpg', 0.632433138300738),\n",
       " ('1020-8733-large_default-t-shirt-la-belle-vie.jpg', 0.6324279881868502),\n",
       " ('1359-13044-large_default-t-shirt-wonderlandes.jpg', 0.6324220065753512),\n",
       " ('1201-10244-large_default-t-shirt-oh-la-la.jpg', 0.6322406590341979),\n",
       " ('1593-13046-large_default-t-shirt-jeu-de-mains.jpg', 0.6322229791388215),\n",
       " ('1021-8792-large_default-t-shirt-mauvaise-reputation.jpg',\n",
       "  0.6321523631058362),\n",
       " ('1021-8735-large_default-t-shirt-mauvaise-reputation.jpg',\n",
       "  0.632150033519915),\n",
       " ('1360-11514-large_default-t-shirt-fluctuat-nec-mergitur.jpg',\n",
       "  0.6318065426074744),\n",
       " ('1822-14889-large_default-t-shirt-serengueti.jpg', 0.6315953772175923),\n",
       " ('1019-10310-large_default-t-shirt-bear-and-sun.jpg', 0.6313840013274622),\n",
       " ('1592-13403-large_default-t-shirt-think-green.jpg', 0.6312716568081105)]"
      ]
     },
     "execution_count": 14,
     "metadata": {},
     "output_type": "execute_result"
    }
   ],
   "source": [
    "%%time\n",
    "query = 'shoes'\n",
    "image_search_res5(query, img_emb_dict, emb)"
   ]
  },
  {
   "cell_type": "code",
   "execution_count": 105,
   "metadata": {},
   "outputs": [
    {
     "name": "stdout",
     "output_type": "stream",
     "text": [
      "Wall time: 2.56 s\n"
     ]
    },
    {
     "data": {
      "text/plain": [
       "[('1337-11973-large_default-maillot-de-bain-apnee.jpg', 0.6898951391501433),\n",
       " ('1359-13044-large_default-t-shirt-wonderlandes.jpg', 0.6632117649964778),\n",
       " ('1359-11714-large_default-t-shirt-wonderlandes.jpg', 0.6632077507946511),\n",
       " ('1020-10242-large_default-t-shirt-la-belle-vie.jpg', 0.6631779094229434),\n",
       " ('1020-8733-large_default-t-shirt-la-belle-vie.jpg', 0.6631121647741495),\n",
       " ('1593-13046-large_default-t-shirt-jeu-de-mains.jpg', 0.6627354604149222),\n",
       " ('1021-8792-large_default-t-shirt-mauvaise-reputation.jpg',\n",
       "  0.6625222204742057),\n",
       " ('1201-10244-large_default-t-shirt-oh-la-la.jpg', 0.6624246590254446),\n",
       " ('1360-11514-large_default-t-shirt-fluctuat-nec-mergitur.jpg',\n",
       "  0.6624216284902036),\n",
       " ('1021-8735-large_default-t-shirt-mauvaise-reputation.jpg',\n",
       "  0.6621673283056734),\n",
       " ('1822-14889-large_default-t-shirt-serengueti.jpg', 0.6618654047730939),\n",
       " ('1592-13403-large_default-t-shirt-think-green.jpg', 0.661746119532137)]"
      ]
     },
     "execution_count": 105,
     "metadata": {},
     "output_type": "execute_result"
    }
   ],
   "source": [
    "%%time\n",
    "query = 'shoe'\n",
    "image_search_res5(query, img_emb_dict, emb)"
   ]
  },
  {
   "cell_type": "markdown",
   "metadata": {},
   "source": [
    "### query images and save output in static folder"
   ]
  },
  {
   "cell_type": "code",
   "execution_count": 65,
   "metadata": {
    "scrolled": true
   },
   "outputs": [
    {
     "data": {
      "text/plain": [
       "[('965-8361-large_default-un-rendez-vous-chez-le-barbier.jpg',\n",
       "  0.5948124769326235),\n",
       " ('1797-14438-large_default-casque-de-velo-urbain.jpg', 0.49601409581487826),\n",
       " ('1797-14434-large_default-casque-de-velo-urbain.jpg', 0.41289129330575647),\n",
       " ('1797-14411-large_default-casque-de-velo-urbain.jpg', 0.32578944563839196),\n",
       " ('1607-13245-large_default-gants-en-cuir-double-cachemire-by-dents.jpg',\n",
       "  0.325553129840431),\n",
       " ('626-5109-large_default-adopter-vos-pieds-de-vigne.jpg', 0.3245709244848521),\n",
       " ('1797-14421-large_default-casque-de-velo-urbain.jpg', 0.324302362326393),\n",
       " ('1797-14413-large_default-casque-de-velo-urbain.jpg', 0.32354706392542115),\n",
       " ('1797-14418-large_default-casque-de-velo-urbain.jpg', 0.32161969861347534),\n",
       " ('1797-14412-large_default-casque-de-velo-urbain.jpg', 0.31081113567197055),\n",
       " ('1621-13437-large_default-organisateur-high-tech-bellroy.jpg',\n",
       "  0.30456713148728515),\n",
       " ('965-8359-large_default-un-rendez-vous-chez-le-barbier.jpg',\n",
       "  0.2930161408907653)]"
      ]
     },
     "execution_count": 65,
     "metadata": {},
     "output_type": "execute_result"
    }
   ],
   "source": [
    "query = 'bicyle'\n",
    "image_list = image_search_res5(query, img_emb_dict, model)\n",
    "#with open(r\"static/image_list.pkl\", \"wb\") as f:\n",
    "#    pickle.dump(image_list, f)\n",
    "image_list"
   ]
  },
  {
   "cell_type": "markdown",
   "metadata": {},
   "source": [
    "### inspect single image and assess relevance with query"
   ]
  },
  {
   "cell_type": "code",
   "execution_count": 117,
   "metadata": {},
   "outputs": [],
   "source": [
    "def inspect_img_vs_query(query, img_id, emb):\n",
    "    print(\n",
    "        labelled_df.query(\"img_id == '{}'\".format(img_id)).image_name.values[0])\n",
    "    scores = [(weight, cosine_sim(getwv_multi_labels(query, emb), vec)) for vec, weight in img_emb_dict['{}'.format(img_id)][:3]]\n",
    "    scores = [(weight * sim, weight, sim) for weight, sim in scores]\n",
    "    print(\n",
    "        sum([score[0] for score in scores]))\n",
    "    print(\n",
    "        labelled_df.query(\"img_id == '{}'\".format(img_id)).loc[:,'content'].values[0][:3])\n",
    "    return scores"
   ]
  },
  {
   "cell_type": "code",
   "execution_count": 523,
   "metadata": {},
   "outputs": [
    {
     "name": "stdout",
     "output_type": "stream",
     "text": [
      "1621-13437-large_default-organisateur-high-tech-bellroy.jpg\n",
      "0.29762976293333027\n",
      "((0.9043031930923462, 'seat belt, seatbelt'), (0.03341376408934593, 'scabbard'), (0.018360324203968048, 'buckle'))\n"
     ]
    },
    {
     "data": {
      "text/plain": [
       "[(0.2875137230397229, 0.9043031930923462, 0.31793952),\n",
       " (0.0065252400276893385, 0.03341376408934593, 0.19528599),\n",
       " (0.0035907998659180373, 0.018360324203968048, 0.19557388)]"
      ]
     },
     "execution_count": 523,
     "metadata": {},
     "output_type": "execute_result"
    }
   ],
   "source": [
    "inspect_img_vs_query('bicyle', 13437)"
   ]
  },
  {
   "cell_type": "markdown",
   "metadata": {},
   "source": [
    "# generate img embeddings"
   ]
  },
  {
   "cell_type": "code",
   "execution_count": 7,
   "metadata": {},
   "outputs": [],
   "source": [
    "# img emb = weighted sum of vec\n",
    "get_weighted_sum_vec = lambda tup: sum([getwv(label, emb) * weight for weight, label in tup])\n",
    "get_weighted_sum_vec_multilbl = lambda tup: sum([getwv_multi_labels(label, emb) * weight for weight, label in tup])\n",
    "\n",
    "# img emb = [(vec, weight)]\n",
    "get_tup_vec_weigth = lambda tup: [(getwv(label, emb), weight) for weight, label in tup]\n",
    "get_tup_vec_weight_multilbl = lambda tup: [(getwv_multi_labels(label, emb), weight) for weight, label in tup]\n",
    "\n",
    "# img emb = vec of first label\n",
    "get_vec_first_label = lambda tup: sum([getwv_multi_labels(label, emb) for weight, label in [tup[0]]])"
   ]
  },
  {
   "cell_type": "code",
   "execution_count": 8,
   "metadata": {},
   "outputs": [],
   "source": [
    "path='static/img_top10_labels_w_weights.csv'\n",
    "    \n",
    "# load image label data\n",
    "labelled_df = pd.read_csv(path)"
   ]
  },
  {
   "cell_type": "code",
   "execution_count": 9,
   "metadata": {},
   "outputs": [],
   "source": [
    "from ast import literal_eval\n",
    "labelled_df.content = labelled_df.content.apply(literal_eval)"
   ]
  },
  {
   "cell_type": "code",
   "execution_count": 10,
   "metadata": {},
   "outputs": [
    {
     "name": "stdout",
     "output_type": "stream",
     "text": [
      "Wall time: 2.03 s\n"
     ]
    }
   ],
   "source": [
    "%%time\n",
    "# takes about 20 minutes w/ GloVe\n",
    "# takes about 3s w/ fastText\n",
    "img_emb_dict = dict(zip(\n",
    "        labelled_df.loc[:].img_id,\n",
    "        #labelled_df.content.apply(get_weight_vec_multilbl) # img emb = weighted sum of vec\n",
    "        #labelled_df.content.apply(get_vec_first_label) # mg emb = vec of first label\n",
    "        labelled_df.loc[:].content.apply(get_tup_vec_weight_multilbl)# img emb = [(vec, weight)]\n",
    "))"
   ]
  },
  {
   "cell_type": "code",
   "execution_count": 11,
   "metadata": {},
   "outputs": [],
   "source": [
    "with open(r\"static/img_emb_dict_150d_fasttext.pkl\", \"wb\") as f:\n",
    "    pickle.dump(img_emb_dict, f)"
   ]
  },
  {
   "cell_type": "markdown",
   "metadata": {},
   "source": [
    "# add weights to image labels"
   ]
  },
  {
   "cell_type": "code",
   "execution_count": 8,
   "metadata": {},
   "outputs": [],
   "source": [
    "from sklearn.feature_extraction.text import CountVectorizer\n",
    "from imgsearch import cosine_sim\n",
    "import numpy as np"
   ]
  },
  {
   "cell_type": "code",
   "execution_count": 9,
   "metadata": {},
   "outputs": [],
   "source": [
    "#pd.read_csv('static/imagenet_classes_to_labels_map.txt')\n",
    "with open('static/imagenet_classes_to_labels_map.txt') as f:\n",
    "    labels = eval(f.read())"
   ]
  },
  {
   "cell_type": "code",
   "execution_count": 10,
   "metadata": {},
   "outputs": [],
   "source": [
    "def get_topn_labels(row, n=10):\n",
    "    outdf = row.astype(float).nlargest(n).reset_index()\n",
    "    outdf.columns = ['label_id','percentage']\n",
    "    outdf.label_id = outdf.label_id.astype(int)\n",
    "    outdf['label_name'] = outdf.label_id.map(labels)\n",
    "    return outdf"
   ]
  },
  {
   "cell_type": "code",
   "execution_count": 11,
   "metadata": {},
   "outputs": [
    {
     "name": "stdout",
     "output_type": "stream",
     "text": [
      "Wall time: 1min 11s\n"
     ]
    }
   ],
   "source": [
    "%%time\n",
    "\n",
    "n_img = 10000\n",
    "\n",
    "# get weight data\n",
    "data_path = r\"C:\\Users\\alexa\\Documents\\data\\wir\\project\\img_proba_vecs_vgg19.csv\"\n",
    "dfw = pd.read_csv(data_path, low_memory=False)\n",
    "\n",
    "# generate df with descr of top10 classes\n",
    "labelled_df = dfw.loc[:, dfw.columns[:3]].copy()\n",
    "labelled_df['content'] = ''\n",
    "\n",
    "for i, image_name in enumerate(dfw.image_name.loc[:n_img]):\n",
    "    topnlabels = get_topn_labels(dfw.loc[i, dfw.columns[3:]])\n",
    "    labelled_df.loc[i, 'content'] = tuple(zip(topnlabels.percentage, topnlabels.label_name)) # keep weight info\n",
    "\n",
    "# select top n images\n",
    "labelled_df = labelled_df.loc[:n_img].copy()"
   ]
  },
  {
   "cell_type": "code",
   "execution_count": 12,
   "metadata": {},
   "outputs": [],
   "source": [
    "path='static/img_top10_labels_w_weights.csv'\n",
    "    \n",
    "# load image label data\n",
    "#labelled_df.to_csv(path, index=False)"
   ]
  }
 ],
 "metadata": {
  "kernelspec": {
   "display_name": "Python 3",
   "language": "python",
   "name": "python3"
  },
  "language_info": {
   "codemirror_mode": {
    "name": "ipython",
    "version": 3
   },
   "file_extension": ".py",
   "mimetype": "text/x-python",
   "name": "python",
   "nbconvert_exporter": "python",
   "pygments_lexer": "ipython3",
   "version": "3.7.0"
  }
 },
 "nbformat": 4,
 "nbformat_minor": 2
}
