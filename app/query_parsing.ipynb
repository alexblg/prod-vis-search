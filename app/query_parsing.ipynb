{
 "cells": [
  {
   "cell_type": "code",
   "execution_count": 1,
   "metadata": {},
   "outputs": [],
   "source": [
    "import pandas as pd\n",
    "import random\n",
    "import os"
   ]
  },
  {
   "cell_type": "code",
   "execution_count": 11,
   "metadata": {},
   "outputs": [],
   "source": [
    "from nltk.tokenize import RegexpTokenizer\n",
    "from nltk.corpus import stopwords\n",
    "\n",
    "s = 'Eighty-seven miles to go, yet.  Onward!'\n",
    "\n",
    "# tokenize (lower, and retain alphanum only)\n",
    "tokenizer = RegexpTokenizer(r'\\w+')\n",
    "s = tokenizer.tokenize(s.lower())\n",
    "\n",
    "# remove stopwords\n",
    "stop_words = set(stopwords.words('english'))  \n",
    "s = [w for w in s if not w in stop_words] "
   ]
  },
  {
   "cell_type": "code",
   "execution_count": 13,
   "metadata": {},
   "outputs": [],
   "source": [
    "from nltk.tokenize import RegexpTokenizer\n",
    "from nltk.corpus import stopwords\n",
    "\n",
    "tokenizer = RegexpTokenizer(r'\\w+')\n",
    "stop_words = set(stopwords.words('english'))\n",
    "\n",
    "def parse_query(q):\n",
    "    # tokenize (lower, and retain alphanum only)\n",
    "    parsed_q = tokenizer.tokenize(q.lower())\n",
    "\n",
    "    # remove stopwords\n",
    "    parsed_q = [w for w in parsed_q if not w in stop_words]\n",
    "    \n",
    "    return parsed_q"
   ]
  },
  {
   "cell_type": "code",
   "execution_count": 15,
   "metadata": {},
   "outputs": [
    {
     "data": {
      "text/plain": [
       "['please', '009', 'show', 'denim']"
      ]
     },
     "execution_count": 15,
     "metadata": {},
     "output_type": "execute_result"
    }
   ],
   "source": [
    "parse_query('Please 009 ## []] show me some denim')"
   ]
  }
 ],
 "metadata": {
  "kernelspec": {
   "display_name": "Python 3",
   "language": "python",
   "name": "python3"
  },
  "language_info": {
   "codemirror_mode": {
    "name": "ipython",
    "version": 3
   },
   "file_extension": ".py",
   "mimetype": "text/x-python",
   "name": "python",
   "nbconvert_exporter": "python",
   "pygments_lexer": "ipython3",
   "version": "3.7.0"
  }
 },
 "nbformat": 4,
 "nbformat_minor": 2
}
