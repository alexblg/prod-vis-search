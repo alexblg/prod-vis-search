{
 "cells": [
  {
   "cell_type": "code",
   "execution_count": 1,
   "metadata": {},
   "outputs": [],
   "source": [
    "from bs4 import BeautifulSoup\n",
    "import os\n",
    "import json"
   ]
  },
  {
   "cell_type": "code",
   "execution_count": 2,
   "metadata": {},
   "outputs": [],
   "source": [
    "%load_ext autoreload\n",
    "%autoreload 2"
   ]
  },
  {
   "cell_type": "code",
   "execution_count": 5,
   "metadata": {},
   "outputs": [],
   "source": [
    "save_dir = r'/home/alex/data/wir/'\n",
    "source_dir = r'raffineurs'\n",
    "save_dir = os.path.join(save_dir, source_dir)\n",
    "base_url= 'https://www.lesraffineurs.com/'"
   ]
  },
  {
   "cell_type": "code",
   "execution_count": 6,
   "metadata": {},
   "outputs": [],
   "source": [
    "from utils import get_p_html, save_img"
   ]
  },
  {
   "cell_type": "markdown",
   "metadata": {},
   "source": [
    "# product page scraping"
   ]
  },
  {
   "cell_type": "code",
   "execution_count": 74,
   "metadata": {},
   "outputs": [],
   "source": [
    "url = 'du-temps-libre/552-horloge-des-marees.html'\n",
    "url = os.path.join(base_url, url)\n",
    "htmlBytes, _ = get_p_html(url)\n",
    "soup = BeautifulSoup(htmlBytes, 'html.parser')"
   ]
  },
  {
   "cell_type": "code",
   "execution_count": 75,
   "metadata": {},
   "outputs": [
    {
     "data": {
      "text/plain": [
       "[<div class=\"product-description-two\"><p>Une horloge des marées au cadran bleu nuit, vert ou blanc fabriquée à partir de bois de hêtre naturel et assemblée à la main à Hossegor.</p>\n",
       " <p><b><a href=\"https://www.lesraffineurs.com/79-vente-solidaire\">Vente Solidaire, pour dire MERCI</a></b></p></div>]"
      ]
     },
     "execution_count": 75,
     "metadata": {},
     "output_type": "execute_result"
    }
   ],
   "source": [
    "soup.findAll(attrs={'class': 'product-description-two'})"
   ]
  },
  {
   "cell_type": "code",
   "execution_count": 9,
   "metadata": {},
   "outputs": [
    {
     "data": {
      "text/plain": [
       "<img height=\"0\" src=\"//bat.bing.com/action/0?ti=4061471&amp;Ver=2\" style=\"display:none; visibility: hidden;\" width=\"0\"/>"
      ]
     },
     "execution_count": 9,
     "metadata": {},
     "output_type": "execute_result"
    }
   ],
   "source": [
    "soup1.find('img')"
   ]
  },
  {
   "cell_type": "markdown",
   "metadata": {},
   "source": [
    "# product list scraping"
   ]
  },
  {
   "cell_type": "code",
   "execution_count": 71,
   "metadata": {},
   "outputs": [
    {
     "name": "stdout",
     "output_type": "stream",
     "text": [
      "page: 1\n",
      "\tT-shirt Hot Robot\n",
      "\tHorloge des marées\n",
      "\tBaromètre à cristaux\n"
     ]
    }
   ],
   "source": [
    "prods = []\n",
    "pages = range(1,9)\n",
    "\n",
    "max_prods = 10e9\n",
    "prod_count = 0\n",
    "\n",
    "for page in pages:\n",
    "    \n",
    "    print('page: {}'.format(page))\n",
    "    url = '22-tous-les-produits?page={}'.format(page)\n",
    "    url = os.path.join(base_url, url)\n",
    "    htmlBytes, _ = get_p_html(url)\n",
    "    soup = BeautifulSoup(htmlBytes, 'html.parser')\n",
    "    soup_products = soup.findAll(attrs={'class': 'thumbnail-container'})\n",
    "    \n",
    "    for prod in soup_products:\n",
    "        \n",
    "        info = prod.findAll('a')\n",
    "        \n",
    "        prod = {}\n",
    "        prod['href'], prod['name'] = info[1].get(\"href\"), info[1].text\n",
    "        prod['image'] = info[0].findAll('source')[0].get('data-srcset')\n",
    "        prod['id'] = prod['href'].split('/')[-1].split('-')[0]\n",
    "        prods.append(prod)\n",
    "        print('\\t{}'.format(prod['name']))\n",
    "        \n",
    "        prod_count += 1\n",
    "        \n",
    "        if prod_count >  max_prods:\n",
    "            break\n",
    "            \n",
    "    if prod_count >  max_prods:\n",
    "            break\n",
    "        \n",
    "with open('prods.json', 'w') as fp:\n",
    "    json.dump(prods, fp)"
   ]
  }
 ],
 "metadata": {
  "kernelspec": {
   "display_name": "Python (scrap)",
   "language": "python",
   "name": "scrap"
  },
  "language_info": {
   "codemirror_mode": {
    "name": "ipython",
    "version": 3
   },
   "file_extension": ".py",
   "mimetype": "text/x-python",
   "name": "python",
   "nbconvert_exporter": "python",
   "pygments_lexer": "ipython3",
   "version": "3.6.10"
  }
 },
 "nbformat": 4,
 "nbformat_minor": 2
}
