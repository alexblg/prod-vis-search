{
 "cells": [
  {
   "cell_type": "code",
   "execution_count": 1,
   "metadata": {},
   "outputs": [],
   "source": [
    "from bs4 import BeautifulSoup\n",
    "import os\n",
    "import json"
   ]
  },
  {
   "cell_type": "code",
   "execution_count": 2,
   "metadata": {},
   "outputs": [],
   "source": [
    "%load_ext autoreload\n",
    "%autoreload 2"
   ]
  },
  {
   "cell_type": "code",
   "execution_count": 5,
   "metadata": {},
   "outputs": [],
   "source": [
    "save_dir = r'/home/alex/data/wir/'\n",
    "source_dir = r'raffineurs'\n",
    "save_dir = os.path.join(save_dir, source_dir)\n",
    "base_url= 'https://www.lesraffineurs.com/'"
   ]
  },
  {
   "cell_type": "code",
   "execution_count": 6,
   "metadata": {},
   "outputs": [],
   "source": [
    "from utils import get_p_html, save_img"
   ]
  },
  {
   "cell_type": "markdown",
   "metadata": {},
   "source": [
    "# DL images"
   ]
  },
  {
   "cell_type": "code",
   "execution_count": 232,
   "metadata": {},
   "outputs": [],
   "source": [
    "with open('prods_w_images_temp.json', 'w') as fp:\n",
    "    json.dump(prods, fp)"
   ]
  },
  {
   "cell_type": "code",
   "execution_count": 231,
   "metadata": {},
   "outputs": [
    {
     "name": "stdout",
     "output_type": "stream",
     "text": [
      "T-shirt Hot Robot\n",
      "\t1591-13041-large_default-t-shirt-hot-robot.jpg\n",
      "\t1591-13042-large_default-t-shirt-hot-robot.jpg\n",
      "Horloge des marées\n",
      "\t552-9740-large_default-horloge-des-marees.jpg\n",
      "\t552-9739-large_default-horloge-des-marees.jpg\n",
      "\t552-13551-large_default-horloge-des-marees.jpg\n",
      "\t552-13553-large_default-horloge-des-marees.jpg\n",
      "\t552-13552-large_default-horloge-des-marees.jpg\n",
      "\t552-9737-large_default-horloge-des-marees.jpg\n",
      "\t552-9738-large_default-horloge-des-marees.jpg\n",
      "Baromètre à cristaux\n",
      "\t542-4526-large_default-barometre-a-cristaux.jpg\n",
      "\t542-4525-large_default-barometre-a-cristaux.jpg\n",
      "\t542-4527-large_default-barometre-a-cristaux.jpg\n"
     ]
    }
   ],
   "source": [
    "%%time\n",
    "for prod in prods[:3]:\n",
    "    print(prod['name'])\n",
    "    for img_url in prod['images']:\n",
    "        url = img_url\n",
    "        img_name = '-'.join([prod['id']]+url.split('/')[-2:])\n",
    "        print('\\t'+img_name)\n",
    "        image_local_path = os.path.join(\n",
    "            save_dir\n",
    "            ,img_name)\n",
    "        save_img(url, image_local_path)"
   ]
  },
  {
   "cell_type": "markdown",
   "metadata": {},
   "source": [
    "# product page scraping"
   ]
  },
  {
   "cell_type": "code",
   "execution_count": 215,
   "metadata": {},
   "outputs": [],
   "source": [
    "url = 'du-temps-libre/552-horloge-des-marees.html'\n",
    "url = os.path.join(base_url, url)\n",
    "htmlBytes, _ = get_p_html(url)\n",
    "soup = BeautifulSoup(htmlBytes, 'html.parser')"
   ]
  },
  {
   "cell_type": "markdown",
   "metadata": {},
   "source": [
    "get image URLs"
   ]
  },
  {
   "cell_type": "code",
   "execution_count": 216,
   "metadata": {},
   "outputs": [],
   "source": [
    "#images = image_soup[0].text.split('\\n')[1:-1]"
   ]
  },
  {
   "cell_type": "code",
   "execution_count": 217,
   "metadata": {},
   "outputs": [],
   "source": [
    "from scrap_prod_image_links import get_images_from_soup"
   ]
  },
  {
   "cell_type": "code",
   "execution_count": 218,
   "metadata": {},
   "outputs": [],
   "source": [
    "images = get_images_from_soup(soup)"
   ]
  },
  {
   "cell_type": "code",
   "execution_count": 219,
   "metadata": {},
   "outputs": [
    {
     "data": {
      "text/plain": [
       "['https://lesraffineurs.b-cdn.net/9740-large_default/horloge-des-marees.jpg',\n",
       " 'https://lesraffineurs.b-cdn.net/9739-large_default/horloge-des-marees.jpg',\n",
       " 'https://lesraffineurs.b-cdn.net/13551-large_default/horloge-des-marees.jpg',\n",
       " 'https://lesraffineurs.b-cdn.net/13553-large_default/horloge-des-marees.jpg',\n",
       " 'https://lesraffineurs.b-cdn.net/13552-large_default/horloge-des-marees.jpg',\n",
       " 'https://lesraffineurs.b-cdn.net/9737-large_default/horloge-des-marees.jpg',\n",
       " 'https://lesraffineurs.b-cdn.net/9738-large_default/horloge-des-marees.jpg']"
      ]
     },
     "execution_count": 219,
     "metadata": {},
     "output_type": "execute_result"
    }
   ],
   "source": [
    "images"
   ]
  },
  {
   "cell_type": "markdown",
   "metadata": {},
   "source": [
    "get all text"
   ]
  },
  {
   "cell_type": "code",
   "execution_count": 109,
   "metadata": {},
   "outputs": [],
   "source": [
    "def get_cleaned_text(soup):\n",
    "    # source: https://stackoverflow.com/questions/1936466/beautifulsoup-grab-visible-webpage-text\n",
    "    \n",
    "    # kill all script and style elements\n",
    "    for script in soup([\"script\", \"style\"]):\n",
    "        script.extract()    # rip it out\n",
    "\n",
    "    # get text\n",
    "    text = soup.get_text()\n",
    "\n",
    "    # break into lines and remove leading and trailing space on each\n",
    "    lines = (line.strip() for line in text.splitlines())\n",
    "    # break multi-headlines into a line each\n",
    "    chunks = (phrase.strip() for line in lines for phrase in line.split(\"  \"))\n",
    "    # drop blank lines\n",
    "    text = '\\n'.join(chunk for chunk in chunks if chunk)\n",
    "\n",
    "    return text.encode('utf-8')"
   ]
  },
  {
   "cell_type": "code",
   "execution_count": 110,
   "metadata": {},
   "outputs": [],
   "source": [
    "text = get_cleaned_text(soup)"
   ]
  },
  {
   "cell_type": "markdown",
   "metadata": {},
   "source": [
    "build script"
   ]
  },
  {
   "cell_type": "code",
   "execution_count": 207,
   "metadata": {},
   "outputs": [
    {
     "name": "stdout",
     "output_type": "stream",
     "text": [
      "T-shirt Hot Robot\n",
      "Horloge des marées\n",
      "Baromètre à cristaux\n"
     ]
    }
   ],
   "source": [
    "with open('prods.json', 'r') as fp:\n",
    "    prods = json.load(fp)\n",
    "\n",
    "max_prods = 3\n",
    "count_prods = 0\n",
    "for prod in prods:\n",
    "    print(prod['name'])\n",
    "    count_prods +=1\n",
    "\n",
    "    # fetch HTML code\n",
    "    url = prod['href']\n",
    "    htmlBytes, _ = get_p_html(url)\n",
    "    soup = BeautifulSoup(htmlBytes, 'html.parser')\n",
    "    \n",
    "    # extract image links\n",
    "    prod['images'] = get_images_from_soup(soup)\n",
    "    \n",
    "    # a bit of cleaning\n",
    "    prod['thumb_img'] = prod.pop('image')\n",
    "    prod['category'] = url.split('/')[-2]\n",
    "\n",
    "    if count_prods >= max_prods:\n",
    "        break\n",
    "        \n",
    "#with open('prods_w_images.json', 'w') as fp:\n",
    "#    json.dump(prods, fp)"
   ]
  },
  {
   "cell_type": "code",
   "execution_count": 208,
   "metadata": {},
   "outputs": [
    {
     "data": {
      "text/plain": [
       "{'href': 'https://www.lesraffineurs.com/du-temps-libre/542-barometre-a-cristaux.html',\n",
       " 'name': 'Baromètre à cristaux',\n",
       " 'id': '542',\n",
       " 'images': ['https://lesraffineurs.b-cdn.net/4526-large_default/barometre-a-cristaux.jpg',\n",
       "  'https://lesraffineurs.b-cdn.net/4525-large_default/barometre-a-cristaux.jpg',\n",
       "  'https://lesraffineurs.b-cdn.net/4527-large_default/barometre-a-cristaux.jpg'],\n",
       " 'thumb_img': 'https://lesraffineurs.b-cdn.net/4526-productlist/barometre-a-cristaux.jpg',\n",
       " 'category': 'du-temps-libre'}"
      ]
     },
     "execution_count": 208,
     "metadata": {},
     "output_type": "execute_result"
    }
   ],
   "source": [
    "prods[2]"
   ]
  },
  {
   "cell_type": "markdown",
   "metadata": {},
   "source": [
    "# product list scraping"
   ]
  },
  {
   "cell_type": "code",
   "execution_count": 71,
   "metadata": {},
   "outputs": [
    {
     "name": "stdout",
     "output_type": "stream",
     "text": [
      "page: 1\n",
      "\tT-shirt Hot Robot\n",
      "\tHorloge des marées\n",
      "\tBaromètre à cristaux\n"
     ]
    }
   ],
   "source": [
    "prods = []\n",
    "pages = range(1,9)\n",
    "\n",
    "max_prods = 10e9\n",
    "prod_count = 0\n",
    "\n",
    "for page in pages:\n",
    "    \n",
    "    print('page: {}'.format(page))\n",
    "    url = '22-tous-les-produits?page={}'.format(page)\n",
    "    url = os.path.join(base_url, url)\n",
    "    htmlBytes, _ = get_p_html(url)\n",
    "    soup = BeautifulSoup(htmlBytes, 'html.parser')\n",
    "    soup_products = soup.findAll(attrs={'class': 'thumbnail-container'})\n",
    "    \n",
    "    for prod in soup_products:\n",
    "        \n",
    "        info = prod.findAll('a')\n",
    "        \n",
    "        prod = {}\n",
    "        prod['href'], prod['name'] = info[1].get(\"href\"), info[1].text\n",
    "        prod['image'] = info[0].findAll('source')[0].get('data-srcset')\n",
    "        prod['id'] = prod['href'].split('/')[-1].split('-')[0]\n",
    "        prods.append(prod)\n",
    "        print('\\t{}'.format(prod['name']))\n",
    "        \n",
    "        prod_count += 1\n",
    "        \n",
    "        if prod_count >  max_prods:\n",
    "            break\n",
    "            \n",
    "    if prod_count >  max_prods:\n",
    "            break\n",
    "        \n",
    "with open('prods.json', 'w') as fp:\n",
    "    json.dump(prods, fp)"
   ]
  }
 ],
 "metadata": {
  "kernelspec": {
   "display_name": "Python (scrap)",
   "language": "python",
   "name": "scrap"
  },
  "language_info": {
   "codemirror_mode": {
    "name": "ipython",
    "version": 3
   },
   "file_extension": ".py",
   "mimetype": "text/x-python",
   "name": "python",
   "nbconvert_exporter": "python",
   "pygments_lexer": "ipython3",
   "version": "3.6.10"
  }
 },
 "nbformat": 4,
 "nbformat_minor": 2
}
